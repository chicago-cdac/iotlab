{
 "cells": [
  {
   "cell_type": "code",
   "execution_count": null,
   "metadata": {},
   "outputs": [],
   "source": [
    "import sys\n",
    "import glob\n",
    "import pandas as pd"
   ]
  },
  {
   "cell_type": "code",
   "execution_count": null,
   "metadata": {},
   "outputs": [],
   "source": [
    "csvdoor=glob.glob(\"*door*.pcap.csv\")\n",
    "csvdoor.sort()\n",
    "csvdoor"
   ]
  },
  {
   "cell_type": "code",
   "execution_count": null,
   "metadata": {},
   "outputs": [],
   "source": [
    "csvidle=glob.glob(\"*idle*.pcap.csv\")\n",
    "csvidle.sort()\n",
    "csvidle"
   ]
  },
  {
   "cell_type": "code",
   "execution_count": null,
   "metadata": {},
   "outputs": [],
   "source": [
    "pd.read_csv(csvdoor[0], sep=\"|\")['frame.len'].max()"
   ]
  },
  {
   "cell_type": "code",
   "execution_count": null,
   "metadata": {},
   "outputs": [],
   "source": [
    "csvinfo = {}\n",
    "for csv in csvdoor:\n",
    "    csvinfo[csv] = {}\n",
    "    csvinfo[csv]['df'] = pd.read_csv(csv, sep=\"|\")\n",
    "    csvinfo[csv]['door'] = True\n",
    "    csvinfo[csv]['pktcount'] = csvinfo[csv]['df'].shape[0]\n",
    "for csv in csvidle:\n",
    "    csvinfo[csv] = {}\n",
    "    csvinfo[csv]['df'] = pd.read_csv(csv, sep=\"|\")\n",
    "    csvinfo[csv]['door'] = False\n",
    "    csvinfo[csv]['pktcount'] = csvinfo[csv]['df'].shape[0]\n",
    "csvinfo['fridge_door2.pcap.csv']['pktcount']"
   ]
  },
  {
   "cell_type": "code",
   "execution_count": null,
   "metadata": {},
   "outputs": [],
   "source": [
    "csvmeta = pd.DataFrame(columns=['csvfile', 'df', 'door', 'pkt_count', 'size_door', 'size_idle', 'size', 'maxs'])\n",
    "for csv in csvdoor:\n",
    "    csvdf = pd.read_csv(csv, sep=\"|\")\n",
    "    size  = csvdf['frame.len'].sum()\n",
    "    maxs  = csvdf['frame.len'].max()\n",
    "    csvmeta = csvmeta.append({\n",
    "        'csvfile': csv, \n",
    "        'df': csvdf,\n",
    "        'door': True,\n",
    "        'pkt_count': csvdf.shape[0],\n",
    "        'size_door': size,\n",
    "        'size': size,\n",
    "        'maxs': maxs\n",
    "    }, ignore_index=True)\n",
    "for csv in csvidle:\n",
    "    csvdf=pd.read_csv(csv, sep=\"|\")\n",
    "    size  = csvdf['frame.len'].sum()\n",
    "    maxs  = csvdf['frame.len'].max()\n",
    "    csvmeta = csvmeta.append({\n",
    "        'csvfile': csv, \n",
    "        'df': csvdf,\n",
    "        'door': False,\n",
    "        'pkt_count': csvdf.shape[0],\n",
    "        'size_idle': size,\n",
    "        'size': size,\n",
    "        'maxs': maxs\n",
    "    }, ignore_index=True)\n",
    "csvmeta"
   ]
  },
  {
   "cell_type": "code",
   "execution_count": null,
   "metadata": {},
   "outputs": [],
   "source": [
    "ax = csvmeta.plot.barh(x='csvfile', y=['size_idle', 'size_door'], stacked=True)"
   ]
  },
  {
   "cell_type": "code",
   "execution_count": null,
   "metadata": {},
   "outputs": [],
   "source": [
    "from bokeh.io import output_file, show, save\n",
    "from bokeh.models import GeoJSONDataSource\n",
    "from bokeh.plotting import figure\n",
    "from bokeh.sampledata.sample_geojson import geojson\n",
    "from bokeh.tile_providers import get_provider, Vendors\n",
    "from bokeh.models import ColumnDataSource, HoverTool\n",
    "import json\n",
    "from IPython.display import IFrame\n",
    "import math"
   ]
  },
  {
   "cell_type": "code",
   "execution_count": null,
   "metadata": {},
   "outputs": [],
   "source": [
    "def merc(Coords, origin):\n",
    "\n",
    "    if Coords is None:\n",
    "        return (0,0) \n",
    "\n",
    "    lat = Coords['lat']\n",
    "    lng = Coords['lng']\n",
    "  \n",
    "    if (lat == 0.0 and lng == 0.0):\n",
    "        if origin:\n",
    "            lat = origin['lat']\n",
    "            lng = origin['lng']\n",
    "        else:\n",
    "            return (0, 0)\n",
    "\n",
    "    r_major = 6378137.000\n",
    "    x = r_major * math.radians(lng)\n",
    "    scale = x/lng\n",
    "    y = 180.0/math.pi * math.log(math.tan(math.pi/4.0 + \n",
    "        lat * (math.pi/180.0)/2.0)) * scale\n",
    "    return (x, y)"
   ]
  },
  {
   "cell_type": "code",
   "execution_count": null,
   "metadata": {},
   "outputs": [],
   "source": [
    "# Where are you now? (this is optional, just to plot some cool lines)\n",
    "origin = {'lat':41.795,'lng':-87.60}"
   ]
  },
  {
   "cell_type": "code",
   "execution_count": null,
   "metadata": {},
   "outputs": [],
   "source": [
    "def map_plot(coords, origin = None, title = None):\n",
    "    \"\"\"Plot multiple points in a world map using array of dict coordinates.\n",
    "\n",
    "    Keyword arguments:\n",
    "    coords -- array of dict objects containing lat,lng,color \n",
    "              eg. [{lat: 41.795, lng: -87.60, color: 'green'}]\n",
    "    origin -- coordinates for your origin location (default None)\n",
    "    \"\"\"\n",
    "    \n",
    "    if origin:\n",
    "        o = merc(origin, origin)\n",
    "        x_origin = [o[0]]\n",
    "        y_origin = [o[1]]\n",
    "        \n",
    "    tile_provider = get_provider(Vendors.CARTODBPOSITRON)\n",
    "\n",
    "    ### Hover Tool ###\n",
    "    source = ColumnDataSource(data=coords)\n",
    "    \n",
    "    # TODO: enable the hover tool to display ISP information\n",
    "    hover = HoverTool(tooltips=[\n",
    "        (\"isp\", \"@isp\"),\n",
    "        (\"oui\",\"@oui\")\n",
    "    ])\n",
    "\n",
    "    p = figure(x_range=(-18780000, 18000000), y_range=(-1000000, 7000000),\n",
    "               x_axis_type=\"mercator\", y_axis_type=\"mercator\", \n",
    "               plot_width = 900, plot_height = 500, title = title,\n",
    "               tools=[hover, '','box_zoom','wheel_zoom','save'],\n",
    "               toolbar_location=\"below\") \n",
    "    #https://docs.bokeh.org/en/latest/docs/user_guide/tools.html\n",
    "    \n",
    "    p.add_tile(tile_provider)\n",
    "\n",
    "    if origin:\n",
    "        p.circle(x=x_origin, y=y_origin, size=10, color=\"black\")\n",
    "\n",
    "    ###\n",
    "    # plot multiple lines coming from the origin to dest. coordinates\n",
    "    #\n",
    "    if origin:\n",
    "        p.multi_line(xs='xs',\n",
    "                     ys='ys',\n",
    "                     color='color',\n",
    "                     line_width=2, source=source)\n",
    "    ###\n",
    "    # only plot point coordinates\n",
    "    #\n",
    "\n",
    "    p.circle(x='x', y='y', size=10, color='color', source=source)\n",
    "\n",
    "    output_file(\"tile1.html\")\n",
    "    save(p)\n",
    "    return IFrame(src='./tile1.html', width=950, height=520)\n",
    "    \n",
    "\n",
    "#map_plot (coords, origin, title='TCP/UDP End Points')"
   ]
  },
  {
   "cell_type": "code",
   "execution_count": null,
   "metadata": {},
   "outputs": [],
   "source": [
    "for k in csvdict.keys():\n",
    "    print(csvdict[k]['df'].head(1))"
   ]
  },
  {
   "cell_type": "code",
   "execution_count": null,
   "metadata": {},
   "outputs": [],
   "source": []
  }
 ],
 "metadata": {
  "kernelspec": {
   "display_name": "Python 3",
   "language": "python",
   "name": "python3"
  },
  "language_info": {
   "codemirror_mode": {
    "name": "ipython",
    "version": 3
   },
   "file_extension": ".py",
   "mimetype": "text/x-python",
   "name": "python",
   "nbconvert_exporter": "python",
   "pygments_lexer": "ipython3",
   "version": "3.7.6"
  }
 },
 "nbformat": 4,
 "nbformat_minor": 2
}
