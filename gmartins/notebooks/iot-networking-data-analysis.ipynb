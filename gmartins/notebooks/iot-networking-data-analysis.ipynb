{
 "cells": [
  {
   "cell_type": "markdown",
   "metadata": {},
   "source": [
    "Workshop on IoT Networking - Data Analysis Track  - Version 0.9.5\n",
    "\n",
    "Network Traffic Analysis Using Python/Jupyter\n",
    "\n",
    "Guilherme G. Martins - gmartins uchicago edu 2020\n",
    "\n",
    "In this workshop, we'll explore the Internet of Thing from the IP/TCP networking (Internet Protocol / Transmission Control Protocol) perspective. We'll use Wireshark, Jupyter Notebook and a local (IoT Lab) API to gather relevant information about the connected devices. Precisely, we want to visualize in a world map the TCP connection end-point locations as well as volume of sent and received data over time. We are first using a .pcap (packet capture file) collected from a smart camera installed inside the lab. After the that, the same steps can be used to analyze a .pcap file collected from your laptop accessing your favorite web site.\n",
    "\n",
    "Other tracks: \n",
    "- IoT Networking - Data Collection - Using Single Board Computers to Collect and Monitor your Network Traffic. (TBD)\n",
    "- IoT Survey on open source components and IoT building blocks. (TBD)\n",
    "\n",
    "Requisites:\n",
    "- Mac/Windows/Linux OS with terminal\n",
    "- Python3/jupyter notebook/virtualenv+pip (https://jupyter.org/install)\n",
    "- Wireshark Application (https://www.wireshark.org/#download)\n",
    "- *bash* and *wget* via terminal\n",
    "- IoTLab's geoip API (Use it inside the IoT Lab, network 192.168.XXX.0/24)\n",
    "\n",
    "Motivation:\n",
    "\n",
    "It is no secret that the proliferation of connected devices is imposing challenges from security and privacy standpoints. Your home network used to be a safe place with a handful of very well known devices. Now, it's even hard to keep track of the total number of connected devices: temperature sensors, cameras, smart toys, refrigerators, just to name a few. Multiple technologies are used to enable these devices to communicate and to interact with each other: Bluetooth, Zigbee, Near Field Communication (NFC) are just examples of communication protocols. But when it comes to using the full set of features provided by your IoT application, in most cases, it is required an internet connection to allow the IoT sending and receiving data to the cloud, potentially compromising security and privacy. Beyond just hoping that the IoT designers and operators are doing the right thing keeping both backend and IoT software secure, there are a few concepts, tools and techniques that we can be used to expose how these devices operate. The goal of this exercise is to explore some of these techniques.\n",
    "\n",
    "By the end of this exercise you should be able to learn:\n",
    "- How to decode a network traffic capture file (pcap) into csv (comma separated values);\n",
    "- How to identify network packets from a specific devices in your network;\n",
    "- How to visualize the TCP/UDP endpoints for all the external established connections;\n",
    "- How to correlate activities and interaction with the IoT devices with a volume of sent and received data;  \n",
    "\n",
    "References:\n",
    "\n",
    "https://en.wikipedia.org/wiki/Ethernet_frame <br />\n",
    "https://en.wikipedia.org/wiki/MAC_address <br />\n",
    "https://en.wikipedia.org/wiki/IPv4 <br />\n",
    "https://en.wikipedia.org/wiki/Internet_Protocol <br />\n",
    "https://en.wikipedia.org/wiki/Transmission_Control_Protocol <br />\n",
    "<Insert new Nick's book title here>"
   ]
  },
  {
   "cell_type": "markdown",
   "metadata": {},
   "source": [
    "### 1. Testing Requirements"
   ]
  },
  {
   "cell_type": "code",
   "execution_count": 10,
   "metadata": {},
   "outputs": [
    {
     "name": "stdout",
     "output_type": "stream",
     "text": [
      "GNU bash, version 3.2.57(1)-release (x86_64-apple-darwin19)\r\n",
      "Copyright (C) 2007 Free Software Foundation, Inc.\r\n"
     ]
    }
   ],
   "source": [
    "# we'll be using bash to run wget, tshark and other commands\n",
    "!/bin/bash --version"
   ]
  },
  {
   "cell_type": "code",
   "execution_count": 11,
   "metadata": {},
   "outputs": [
    {
     "name": "stdout",
     "output_type": "stream",
     "text": [
      "GNU Wget 1.20.3 built on darwin19.0.0.\r\n",
      "\r\n",
      "-cares +digest -gpgme +https +ipv6 +iri +large-file -metalink +nls \r\n",
      "+ntlm +opie -psl +ssl/openssl \r\n",
      "\r\n",
      "Wgetrc: \r\n",
      "    /usr/local/etc/wgetrc (system)\r\n",
      "Locale: \r\n",
      "    /usr/local/Cellar/wget/1.20.3_2/share/locale \r\n",
      "Compile: \r\n",
      "    clang -DHAVE_CONFIG_H -DSYSTEM_WGETRC=\"/usr/local/etc/wgetrc\" \r\n",
      "    -DLOCALEDIR=\"/usr/local/Cellar/wget/1.20.3_2/share/locale\" -I. \r\n",
      "    -I../lib -I../lib -I/usr/local/opt/openssl@1.1/include -DNDEBUG -g \r\n",
      "    -O2 \r\n",
      "Link: \r\n",
      "    clang -DNDEBUG -g -O2 -lidn2 -L/usr/local/opt/openssl@1.1/lib -lssl \r\n",
      "    -lcrypto -ldl -lz ftp-opie.o openssl.o http-ntlm.o ../lib/libgnu.a \r\n",
      "    -liconv -lintl -Wl,-framework -Wl,CoreFoundation -lunistring \r\n",
      "\r\n",
      "Copyright (C) 2015 Free Software Foundation, Inc.\r\n",
      "License GPLv3+: GNU GPL version 3 or later\r\n",
      "<http://www.gnu.org/licenses/gpl.html>.\r\n",
      "This is free software: you are free to change and redistribute it.\r\n",
      "There is NO WARRANTY, to the extent permitted by law.\r\n",
      "\r\n",
      "Originally written by Hrvoje Niksic <hniksic@xemacs.org>.\r\n",
      "Please send bug reports and questions to <bug-wget@gnu.org>.\r\n"
     ]
    }
   ],
   "source": [
    "# use wget to easily download the datasets and files from jupyter\n",
    "!wget --version"
   ]
  },
  {
   "cell_type": "code",
   "execution_count": 12,
   "metadata": {},
   "outputs": [
    {
     "name": "stdout",
     "output_type": "stream",
     "text": [
      "env: PATH=/Users/gmartins/chicago-cdac/iotlab/gmartins/devops/venv/bin:/usr/local/bin:/usr/bin:/bin:/usr/sbin:/sbin:/Users/gmartins/golang/go1.13.1/go/bin/:/Applications//Visual Studio Code.app/Contents/Resources/app/bin/:/Users/gmartins/.local/bin/:/Users/gmartins/Library/Python/3.7/bin/:/Applications/Wireshark.app/Contents/MacOS/:/Applications/Wireshark.app/Contents/MacOS/:/Applications/Wireshark.app/Contents/MacOS/\n",
      "TShark (Wireshark) 3.0.7 (v3.0.7-0-g9435717b91f5)\n",
      "\n",
      "Copyright 1998-2019 Gerald Combs <gerald@wireshark.org> and contributors.\n",
      "License GPLv2+: GNU GPL version 2 or later <http://www.gnu.org/licenses/old-licenses/gpl-2.0.html>\n",
      "This is free software; see the source for copying conditions. There is NO\n",
      "warranty; not even for MERCHANTABILITY or FITNESS FOR A PARTICULAR PURPOSE.\n",
      "\n",
      "Compiled (64-bit) with libpcap, without POSIX capabilities, with GLib 2.37.6,\n",
      "with zlib 1.2.11, with SMI 0.4.8, with c-ares 1.15.0, with Lua 5.2.4, with\n",
      "GnuTLS 3.4.17, with Gcrypt 1.7.7, with MIT Kerberos, with MaxMind DB resolver,\n",
      "with nghttp2 1.39.2, with LZ4, with Snappy, with libxml2 2.9.9.\n",
      "\n",
      "Running on Mac OS X 10.15.2, build 19C57 (Darwin 19.2.0), with Intel(R) Core(TM)\n",
      "i5-8279U CPU @ 2.40GHz (with SSE4.2), with 16384 MB of physical memory, with\n",
      "locale en_US.UTF-8, with libpcap version 1.9.1, with GnuTLS 3.4.17, with Gcrypt\n",
      "1.7.7, with zlib 1.2.11, binary plugins supported (0 loaded).\n",
      "\n",
      "Built using clang 4.2.1 Compatible Apple LLVM 11.0.0 (clang-1100.0.33.12).\n"
     ]
    }
   ],
   "source": [
    "# Make sure the terminal command 'tshark' is in your PATH environment variable and ready to be used.\n",
    "# We'll use tshark to extract .csv data from the .pcap (packet capture format) to we can generate analysis\n",
    "\n",
    "# Setting the path maybe required for systems like Mac or Windows \n",
    "\n",
    "path=%env PATH\n",
    "%env PATH=$path:/Applications/Wireshark.app/Contents/MacOS/ \n",
    "\n",
    "!tshark --version"
   ]
  },
  {
   "cell_type": "markdown",
   "metadata": {},
   "source": [
    "### 2. Downloading and Preparing the Data"
   ]
  },
  {
   "cell_type": "code",
   "execution_count": 13,
   "metadata": {},
   "outputs": [
    {
     "name": "stdout",
     "output_type": "stream",
     "text": [
      "INFO: file present\r\n"
     ]
    }
   ],
   "source": [
    "# For analysing IoT device traffic you need to link information from multiple sources.\n",
    "# The very first stop is to look at the MAC addresses and translate the first 3 octets \n",
    "# into the manufactor ID.\n",
    "# The mac address resolution can be seen using the field (eth.dst_resolved and\n",
    "# eth.src_resolved) while extracting csv from pcap (or even enabling mac address \n",
    "# resolution if you use the Wireshark GUI), but here we'll understand how to \n",
    "# link this information from a reliable source without relying on an\n",
    "# external application.\n",
    "# https://en.wikipedia.org/wiki/MAC_address\n",
    "# https://en.wikipedia.org/wiki/Organizationally_unique_identifier\n",
    "ouiurl=\"http://standards-oui.ieee.org/oui/oui.txt\" \n",
    "#ouiurl=\"https://linuxnet.ca/ieee/oui.txt\" #sanitized version of oui dataset\n",
    "!if [ ! -f 'oui.txt' ]; then wget $ouiurl; else echo \"INFO: file present\"; fi"
   ]
  },
  {
   "cell_type": "code",
   "execution_count": 14,
   "metadata": {},
   "outputs": [],
   "source": [
    "##\n",
    "# The packet capture file (.pcap) is the collection of all network packets\n",
    "# sent and received by the iot device. It's not restricted to the IoT,\n",
    "# in fact, you can collect packets while logging in to your facebook\n",
    "# account for example. In that case, the pcap will contains your password,\n",
    "# mostly likely encrypted and hashed. WARNING: Do not upload or share a\n",
    "# pcap file of unless you are 100% sure you know what it's inside the file\n",
    "\n",
    "##\n",
    "# you can change the the name of the file here to work with one collected\n",
    "# using the Wireshark program.\n",
    "logfile = \"camera4.pcap.log\"\n",
    "pcapfile = \"camera4.pcap\"\n",
    "iotlaburl = \"http://192.168.143.1/\" #don't forget the \"/\" at the end"
   ]
  },
  {
   "cell_type": "code",
   "execution_count": 15,
   "metadata": {},
   "outputs": [
    {
     "name": "stdout",
     "output_type": "stream",
     "text": [
      "INFO: file present\r\n"
     ]
    }
   ],
   "source": [
    "##\n",
    "# let's work with a sample pcap file for now\n",
    "# later your will use Wireshark to capture traffic from your station\n",
    "\n",
    "pcapurl = iotlaburl+\"iotlab/pcapsample/\"+pcapfile # 3 days of packet capture\n",
    "!if [ ! -f $pcapfile ]; then wget $pcapurl; else echo \"INFO: file present\"; fi"
   ]
  },
  {
   "cell_type": "code",
   "execution_count": 16,
   "metadata": {},
   "outputs": [],
   "source": [
    "#logurl = iotlaburl+\"iotlab/pcapsample/\"+logfile # 3 days of packet capture\n",
    "#!if [ ! -f $logfile ]; then wget $logurl; else echo \"INFO: file present\"; fi"
   ]
  },
  {
   "cell_type": "code",
   "execution_count": 17,
   "metadata": {},
   "outputs": [],
   "source": [
    "##\n",
    "# We have a log file accompanying the some of our \n",
    "# pcap files. The log file should contain information\n",
    "# about the time that the interactions took place\n",
    "# for each IoT device\n",
    "# eg. : cat camera4.pcap.log \n",
    "# \n",
    "#- 3:24pm start capture (-s 0)\n",
    "#- 3:24pm power on camera\n",
    "#- 3:26pm started streaming\n",
    "#- 3:26pm stopped streaming\n",
    "#- 3:27pm motion detection notification received (android phone)\n",
    "#- 3:29pm start streaming\n",
    "#- 3:29pm stopped streming\n",
    "#- 3:30pm end capture\n",
    "\n",
    "#!cat $logfile"
   ]
  },
  {
   "cell_type": "code",
   "execution_count": 18,
   "metadata": {},
   "outputs": [
    {
     "name": "stdout",
     "output_type": "stream",
     "text": [
      "\t\t\t\tFarum    DK-3520\r",
      "\r\n",
      "\t\t\t\tDK\r",
      "\r\n",
      "\r",
      "\r\n",
      "64-BC-58   (hex)\t\tIntel Corporate\r",
      "\r\n",
      "64BC58     (base 16)\t\tIntel Corporate\r",
      "\r\n",
      "\t\t\t\tLot 8, Jalan Hi-Tech 2/3\r",
      "\r\n",
      "\t\t\t\tKulim  Kedah  09000\r",
      "\r\n",
      "\t\t\t\tMY\r",
      "\r\n",
      "\r",
      "\r\n",
      "28-E3-4E   (hex)\t\tHUAWEI TECHNOLOGIES CO.,LTD\r",
      "\r\n",
      "28E34E     (base 16)\t\tHUAWEI TECHNOLOGIES CO.,LTD\r",
      "\r\n",
      "\t\t\t\tNo.2 Xin Cheng Road, Room R6,Songshan Lake Technology Park\r",
      "\r\n",
      "\t\t\t\tDongguan    523808\r",
      "\r\n",
      "\t\t\t\tCN\r",
      "\r\n",
      "\r",
      "\r\n",
      "94-E9-EE   (hex)\t\tHuawei Device Co., Ltd.\r",
      "\r\n",
      "94E9EE     (base 16)\t\tHuawei Device Co., Ltd.\r",
      "\r\n",
      "\t\t\t\tNo.2 of Xincheng Road, Songshan Lake Zone\r",
      "\r\n",
      "\t\t\t\tDongguan  Guangdong  523808\r",
      "\r\n",
      "\t\t\t\tCN\r",
      "\r\n"
     ]
    }
   ],
   "source": [
    "!tail -n 20 oui.txt"
   ]
  },
  {
   "cell_type": "code",
   "execution_count": 19,
   "metadata": {},
   "outputs": [],
   "source": [
    "##\n",
    "# If you have any trouble importing pandas or any other package\n",
    "# there are a few things you can do, one is to install conda or virtualenv\n",
    "# \n",
    "# UNCOMMENT and run below to install the dependancies using virtualenv:\n",
    "\n",
    "#!pip3 install virtualenv # install virtual environment\n",
    "#!virtualenv venv # create venv folder to hold all the packages\n",
    "#!source venv/bin/activate; pip3 install -r requirements.txt #<--- all the dependencies for this notebook\n",
    "import sys\n",
    "sys.path.append(\"venv/lib/python3.7/site-packages\")\n",
    "\n",
    "import re\n",
    "import pandas as pd\n",
    "import requests\n",
    "from urllib.parse import urljoin"
   ]
  },
  {
   "cell_type": "code",
   "execution_count": 20,
   "metadata": {},
   "outputs": [
    {
     "data": {
      "text/html": [
       "<div>\n",
       "<style scoped>\n",
       "    .dataframe tbody tr th:only-of-type {\n",
       "        vertical-align: middle;\n",
       "    }\n",
       "\n",
       "    .dataframe tbody tr th {\n",
       "        vertical-align: top;\n",
       "    }\n",
       "\n",
       "    .dataframe thead th {\n",
       "        text-align: right;\n",
       "    }\n",
       "</style>\n",
       "<table border=\"1\" class=\"dataframe\">\n",
       "  <thead>\n",
       "    <tr style=\"text-align: right;\">\n",
       "      <th></th>\n",
       "      <th>macoui</th>\n",
       "      <th>macman</th>\n",
       "    </tr>\n",
       "  </thead>\n",
       "  <tbody>\n",
       "    <tr>\n",
       "      <th>0</th>\n",
       "      <td>00:22:72</td>\n",
       "      <td>American Micro-Fuel Device Corp.</td>\n",
       "    </tr>\n",
       "    <tr>\n",
       "      <th>1</th>\n",
       "      <td>00:d0:ef</td>\n",
       "      <td>IGT</td>\n",
       "    </tr>\n",
       "    <tr>\n",
       "      <th>2</th>\n",
       "      <td>08:61:95</td>\n",
       "      <td>Rockwell Automation</td>\n",
       "    </tr>\n",
       "    <tr>\n",
       "      <th>3</th>\n",
       "      <td>f4:bd:9e</td>\n",
       "      <td>Cisco Systems, Inc</td>\n",
       "    </tr>\n",
       "    <tr>\n",
       "      <th>4</th>\n",
       "      <td>58:85:e9</td>\n",
       "      <td>Realme Chongqing MobileTelecommunications Corp...</td>\n",
       "    </tr>\n",
       "    <tr>\n",
       "      <th>...</th>\n",
       "      <td>...</td>\n",
       "      <td>...</td>\n",
       "    </tr>\n",
       "    <tr>\n",
       "      <th>27432</th>\n",
       "      <td>40:2e:71</td>\n",
       "      <td>Texas Instruments</td>\n",
       "    </tr>\n",
       "    <tr>\n",
       "      <th>27433</th>\n",
       "      <td>70:76:dd</td>\n",
       "      <td>OxyGuard Internation A/S</td>\n",
       "    </tr>\n",
       "    <tr>\n",
       "      <th>27434</th>\n",
       "      <td>64:bc:58</td>\n",
       "      <td>Intel Corporate</td>\n",
       "    </tr>\n",
       "    <tr>\n",
       "      <th>27435</th>\n",
       "      <td>28:e3:4e</td>\n",
       "      <td>HUAWEI TECHNOLOGIES CO.,LTD</td>\n",
       "    </tr>\n",
       "    <tr>\n",
       "      <th>27436</th>\n",
       "      <td>94:e9:ee</td>\n",
       "      <td>Huawei Device Co., Ltd.</td>\n",
       "    </tr>\n",
       "  </tbody>\n",
       "</table>\n",
       "<p>27437 rows × 2 columns</p>\n",
       "</div>"
      ],
      "text/plain": [
       "         macoui                                             macman\n",
       "0      00:22:72                   American Micro-Fuel Device Corp.\n",
       "1      00:d0:ef                                                IGT\n",
       "2      08:61:95                                Rockwell Automation\n",
       "3      f4:bd:9e                                 Cisco Systems, Inc\n",
       "4      58:85:e9  Realme Chongqing MobileTelecommunications Corp...\n",
       "...         ...                                                ...\n",
       "27432  40:2e:71                                  Texas Instruments\n",
       "27433  70:76:dd                           OxyGuard Internation A/S\n",
       "27434  64:bc:58                                    Intel Corporate\n",
       "27435  28:e3:4e                        HUAWEI TECHNOLOGIES CO.,LTD\n",
       "27436  94:e9:ee                            Huawei Device Co., Ltd.\n",
       "\n",
       "[27437 rows x 2 columns]"
      ]
     },
     "execution_count": 20,
     "metadata": {},
     "output_type": "execute_result"
    }
   ],
   "source": [
    "##\n",
    "# This function will parse the oui file and make it available in\n",
    "# a dataframe format. \n",
    "\n",
    "def generate_oui_dataframe():\n",
    "    with open('oui.txt','r') as f:\n",
    "        ouilines = f.readlines()\n",
    "        p = re.compile(\"^(..-..-..).*\\t\\t(.*)\") # Extract mac prefix 44-4A-DB and Manufacturer \n",
    "        macoui=[] # Organizational Unique Identifier OUI eg 44:4a:db\n",
    "        macman=[] # manufacturer eg \"Apple, Inc.\"\n",
    "        for line in ouilines:\n",
    "            r = p.match(line)\n",
    "            if r is not None:\n",
    "                try:\n",
    "                    r1=r.group(1).replace(\"-\",\":\").lower()\n",
    "                    r2=r.group(2)\n",
    "                except IndexError as ie:\n",
    "                    print(\"WARN: generate_oui_dataframe regex - \" + str(ie))\n",
    "                    continue\n",
    "                macoui.append(r1)\n",
    "                macman.append(r2)\n",
    "        df=pd.DataFrame({'macoui':macoui, 'macman':macman})\n",
    "    return df\n",
    "\n",
    "ouidf=generate_oui_dataframe()\n",
    "ouidf"
   ]
  },
  {
   "cell_type": "code",
   "execution_count": 21,
   "metadata": {},
   "outputs": [],
   "source": [
    "##\n",
    "# We will be looking mostly over tcp / udp connections.\n",
    "# \n",
    "# Keep in mind that data can travel encapsulated or crafted\n",
    "# inside various protocol/packet breaches. We commonly rely on\n",
    "# standard IPS/IDS signatures for detecting cases where the\n",
    "# data is traveling in uncommon ways (anomalies).\n",
    "# Common IDS/IPS systems are Snort, Suricata and Bro.\n",
    "#\n",
    "# please note that the csv can expand 2x or 3x the size of\n",
    "# the original pcap\n",
    "\n",
    "!tshark -r $pcapfile -T fields -e frame.number -e frame.time \\\n",
    "-e frame.time_delta -e frame.time_relative -e eth.src_resolved  \\\n",
    "-e eth.dst_resolved -e eth.src -e eth.dst -e eth.type -e ip.version \\\n",
    "-e ip.hdr_len -e ip.len -e ip.id -e ip.flags.df -e ip.flags.mf \\\n",
    "-e ip.flags.rb -e ip.flags.sf -e ip.dsfield.dscp -e ip.dsfield.ecn \\\n",
    "-e ip.tos -e ip.ttl -e ip.proto -e ip.src -e ip.dst -e udp.srcport \\\n",
    "-e udp.dstport -e udp.length -e tcp.flags.cwr -e tcp.flags.ecn \\\n",
    "-e tcp.flags.urg -e tcp.flags.ack -e tcp.flags.push -e tcp.flags.reset \\\n",
    "-e tcp.flags.syn -e tcp.flags.fin -e tcp.flags.res -e tcp.flags.ns \\\n",
    "-e tcp.payload -e udp[] -e tcp.len -e frame.len -E header=y -E separator=\\| > pcapfile.csv #  -e udp.payload?"
   ]
  },
  {
   "cell_type": "code",
   "execution_count": 22,
   "metadata": {},
   "outputs": [
    {
     "data": {
      "text/html": [
       "<div>\n",
       "<style scoped>\n",
       "    .dataframe tbody tr th:only-of-type {\n",
       "        vertical-align: middle;\n",
       "    }\n",
       "\n",
       "    .dataframe tbody tr th {\n",
       "        vertical-align: top;\n",
       "    }\n",
       "\n",
       "    .dataframe thead th {\n",
       "        text-align: right;\n",
       "    }\n",
       "</style>\n",
       "<table border=\"1\" class=\"dataframe\">\n",
       "  <thead>\n",
       "    <tr style=\"text-align: right;\">\n",
       "      <th></th>\n",
       "      <th>frame.number</th>\n",
       "      <th>frame.time</th>\n",
       "      <th>frame.time_delta</th>\n",
       "      <th>frame.time_relative</th>\n",
       "      <th>eth.src_resolved</th>\n",
       "      <th>eth.dst_resolved</th>\n",
       "      <th>eth.src</th>\n",
       "      <th>eth.dst</th>\n",
       "      <th>eth.type</th>\n",
       "      <th>ip.version</th>\n",
       "      <th>...</th>\n",
       "      <th>tcp.flags.ack</th>\n",
       "      <th>tcp.flags.push</th>\n",
       "      <th>tcp.flags.reset</th>\n",
       "      <th>tcp.flags.syn</th>\n",
       "      <th>tcp.flags.fin</th>\n",
       "      <th>tcp.flags.res</th>\n",
       "      <th>tcp.flags.ns</th>\n",
       "      <th>tcp.payload</th>\n",
       "      <th>tcp.len</th>\n",
       "      <th>frame.len</th>\n",
       "    </tr>\n",
       "  </thead>\n",
       "  <tbody>\n",
       "    <tr>\n",
       "      <th>0</th>\n",
       "      <td>1</td>\n",
       "      <td>Jan 17, 2020 15:25:14.592959000 CST</td>\n",
       "      <td>0.000000</td>\n",
       "      <td>0.000000</td>\n",
       "      <td>SamsungE_c2:38:2d</td>\n",
       "      <td>Broadcast</td>\n",
       "      <td>00:16:6c:c2:38:2d</td>\n",
       "      <td>ff:ff:ff:ff:ff:ff</td>\n",
       "      <td>NaN</td>\n",
       "      <td>NaN</td>\n",
       "      <td>...</td>\n",
       "      <td>NaN</td>\n",
       "      <td>NaN</td>\n",
       "      <td>NaN</td>\n",
       "      <td>NaN</td>\n",
       "      <td>NaN</td>\n",
       "      <td>NaN</td>\n",
       "      <td>NaN</td>\n",
       "      <td>NaN</td>\n",
       "      <td>NaN</td>\n",
       "      <td>60</td>\n",
       "    </tr>\n",
       "    <tr>\n",
       "      <th>1</th>\n",
       "      <td>2</td>\n",
       "      <td>Jan 17, 2020 15:25:14.955789000 CST</td>\n",
       "      <td>0.362830</td>\n",
       "      <td>0.362830</td>\n",
       "      <td>SamsungE_c2:38:2d</td>\n",
       "      <td>Broadcast</td>\n",
       "      <td>00:16:6c:c2:38:2d</td>\n",
       "      <td>ff:ff:ff:ff:ff:ff</td>\n",
       "      <td>0x00000800</td>\n",
       "      <td>4</td>\n",
       "      <td>...</td>\n",
       "      <td>NaN</td>\n",
       "      <td>NaN</td>\n",
       "      <td>NaN</td>\n",
       "      <td>NaN</td>\n",
       "      <td>NaN</td>\n",
       "      <td>NaN</td>\n",
       "      <td>NaN</td>\n",
       "      <td>NaN</td>\n",
       "      <td>NaN</td>\n",
       "      <td>322</td>\n",
       "    </tr>\n",
       "    <tr>\n",
       "      <th>2</th>\n",
       "      <td>3</td>\n",
       "      <td>Jan 17, 2020 15:25:15.957152000 CST</td>\n",
       "      <td>1.001363</td>\n",
       "      <td>1.364193</td>\n",
       "      <td>Raspberr_37:d1:e2</td>\n",
       "      <td>SamsungE_c2:38:2d</td>\n",
       "      <td>dc:a6:32:37:d1:e2</td>\n",
       "      <td>00:16:6c:c2:38:2d</td>\n",
       "      <td>0x00000800</td>\n",
       "      <td>4</td>\n",
       "      <td>...</td>\n",
       "      <td>NaN</td>\n",
       "      <td>NaN</td>\n",
       "      <td>NaN</td>\n",
       "      <td>NaN</td>\n",
       "      <td>NaN</td>\n",
       "      <td>NaN</td>\n",
       "      <td>NaN</td>\n",
       "      <td>NaN</td>\n",
       "      <td>NaN</td>\n",
       "      <td>342</td>\n",
       "    </tr>\n",
       "    <tr>\n",
       "      <th>3</th>\n",
       "      <td>4</td>\n",
       "      <td>Jan 17, 2020 15:25:15.981141000 CST</td>\n",
       "      <td>0.023989</td>\n",
       "      <td>1.388182</td>\n",
       "      <td>SamsungE_c2:38:2d</td>\n",
       "      <td>Broadcast</td>\n",
       "      <td>00:16:6c:c2:38:2d</td>\n",
       "      <td>ff:ff:ff:ff:ff:ff</td>\n",
       "      <td>0x00000800</td>\n",
       "      <td>4</td>\n",
       "      <td>...</td>\n",
       "      <td>NaN</td>\n",
       "      <td>NaN</td>\n",
       "      <td>NaN</td>\n",
       "      <td>NaN</td>\n",
       "      <td>NaN</td>\n",
       "      <td>NaN</td>\n",
       "      <td>NaN</td>\n",
       "      <td>NaN</td>\n",
       "      <td>NaN</td>\n",
       "      <td>334</td>\n",
       "    </tr>\n",
       "    <tr>\n",
       "      <th>4</th>\n",
       "      <td>5</td>\n",
       "      <td>Jan 17, 2020 15:25:15.994385000 CST</td>\n",
       "      <td>0.013244</td>\n",
       "      <td>1.401426</td>\n",
       "      <td>Raspberr_37:d1:e2</td>\n",
       "      <td>SamsungE_c2:38:2d</td>\n",
       "      <td>dc:a6:32:37:d1:e2</td>\n",
       "      <td>00:16:6c:c2:38:2d</td>\n",
       "      <td>0x00000800</td>\n",
       "      <td>4</td>\n",
       "      <td>...</td>\n",
       "      <td>NaN</td>\n",
       "      <td>NaN</td>\n",
       "      <td>NaN</td>\n",
       "      <td>NaN</td>\n",
       "      <td>NaN</td>\n",
       "      <td>NaN</td>\n",
       "      <td>NaN</td>\n",
       "      <td>NaN</td>\n",
       "      <td>NaN</td>\n",
       "      <td>342</td>\n",
       "    </tr>\n",
       "  </tbody>\n",
       "</table>\n",
       "<p>5 rows × 40 columns</p>\n",
       "</div>"
      ],
      "text/plain": [
       "   frame.number                           frame.time  frame.time_delta  \\\n",
       "0             1  Jan 17, 2020 15:25:14.592959000 CST          0.000000   \n",
       "1             2  Jan 17, 2020 15:25:14.955789000 CST          0.362830   \n",
       "2             3  Jan 17, 2020 15:25:15.957152000 CST          1.001363   \n",
       "3             4  Jan 17, 2020 15:25:15.981141000 CST          0.023989   \n",
       "4             5  Jan 17, 2020 15:25:15.994385000 CST          0.013244   \n",
       "\n",
       "   frame.time_relative   eth.src_resolved   eth.dst_resolved  \\\n",
       "0             0.000000  SamsungE_c2:38:2d          Broadcast   \n",
       "1             0.362830  SamsungE_c2:38:2d          Broadcast   \n",
       "2             1.364193  Raspberr_37:d1:e2  SamsungE_c2:38:2d   \n",
       "3             1.388182  SamsungE_c2:38:2d          Broadcast   \n",
       "4             1.401426  Raspberr_37:d1:e2  SamsungE_c2:38:2d   \n",
       "\n",
       "             eth.src            eth.dst    eth.type ip.version  ...  \\\n",
       "0  00:16:6c:c2:38:2d  ff:ff:ff:ff:ff:ff         NaN        NaN  ...   \n",
       "1  00:16:6c:c2:38:2d  ff:ff:ff:ff:ff:ff  0x00000800          4  ...   \n",
       "2  dc:a6:32:37:d1:e2  00:16:6c:c2:38:2d  0x00000800          4  ...   \n",
       "3  00:16:6c:c2:38:2d  ff:ff:ff:ff:ff:ff  0x00000800          4  ...   \n",
       "4  dc:a6:32:37:d1:e2  00:16:6c:c2:38:2d  0x00000800          4  ...   \n",
       "\n",
       "  tcp.flags.ack tcp.flags.push tcp.flags.reset tcp.flags.syn tcp.flags.fin  \\\n",
       "0           NaN            NaN             NaN           NaN           NaN   \n",
       "1           NaN            NaN             NaN           NaN           NaN   \n",
       "2           NaN            NaN             NaN           NaN           NaN   \n",
       "3           NaN            NaN             NaN           NaN           NaN   \n",
       "4           NaN            NaN             NaN           NaN           NaN   \n",
       "\n",
       "  tcp.flags.res  tcp.flags.ns tcp.payload tcp.len  frame.len  \n",
       "0           NaN           NaN         NaN     NaN         60  \n",
       "1           NaN           NaN         NaN     NaN        322  \n",
       "2           NaN           NaN         NaN     NaN        342  \n",
       "3           NaN           NaN         NaN     NaN        334  \n",
       "4           NaN           NaN         NaN     NaN        342  \n",
       "\n",
       "[5 rows x 40 columns]"
      ]
     },
     "execution_count": 22,
     "metadata": {},
     "output_type": "execute_result"
    }
   ],
   "source": [
    "dfpcap1 = pd.read_csv(\"pcapfile.csv\", delimiter=\"|\")\n",
    "dfpcap1.head()"
   ]
  },
  {
   "cell_type": "code",
   "execution_count": 23,
   "metadata": {},
   "outputs": [
    {
     "data": {
      "text/html": [
       "<div>\n",
       "<style scoped>\n",
       "    .dataframe tbody tr th:only-of-type {\n",
       "        vertical-align: middle;\n",
       "    }\n",
       "\n",
       "    .dataframe tbody tr th {\n",
       "        vertical-align: top;\n",
       "    }\n",
       "\n",
       "    .dataframe thead th {\n",
       "        text-align: right;\n",
       "    }\n",
       "</style>\n",
       "<table border=\"1\" class=\"dataframe\">\n",
       "  <thead>\n",
       "    <tr style=\"text-align: right;\">\n",
       "      <th></th>\n",
       "      <th>ip.dst</th>\n",
       "      <th>eth.src</th>\n",
       "      <th>ouiman</th>\n",
       "    </tr>\n",
       "  </thead>\n",
       "  <tbody>\n",
       "    <tr>\n",
       "      <th>0</th>\n",
       "      <td>NaN</td>\n",
       "      <td>00:16:6c:c2:38:2d</td>\n",
       "      <td>Samsung Electronics Co.,Ltd</td>\n",
       "    </tr>\n",
       "    <tr>\n",
       "      <th>1</th>\n",
       "      <td>255.255.255.255</td>\n",
       "      <td>00:16:6c:c2:38:2d</td>\n",
       "      <td>Samsung Electronics Co.,Ltd</td>\n",
       "    </tr>\n",
       "    <tr>\n",
       "      <th>2</th>\n",
       "      <td>192.168.144.25</td>\n",
       "      <td>dc:a6:32:37:d1:e2</td>\n",
       "      <td>Raspberry Pi Trading Ltd</td>\n",
       "    </tr>\n",
       "    <tr>\n",
       "      <th>7</th>\n",
       "      <td>224.0.0.22</td>\n",
       "      <td>00:16:6c:c2:38:2d</td>\n",
       "      <td>Samsung Electronics Co.,Ltd</td>\n",
       "    </tr>\n",
       "    <tr>\n",
       "      <th>9</th>\n",
       "      <td>NaN</td>\n",
       "      <td>dc:a6:32:37:d1:e2</td>\n",
       "      <td>Raspberry Pi Trading Ltd</td>\n",
       "    </tr>\n",
       "    <tr>\n",
       "      <th>10</th>\n",
       "      <td>192.168.144.1</td>\n",
       "      <td>00:16:6c:c2:38:2d</td>\n",
       "      <td>Samsung Electronics Co.,Ltd</td>\n",
       "    </tr>\n",
       "    <tr>\n",
       "      <th>11</th>\n",
       "      <td>192.168.144.25,192.168.144.1</td>\n",
       "      <td>dc:a6:32:37:d1:e2</td>\n",
       "      <td>Raspberry Pi Trading Ltd</td>\n",
       "    </tr>\n",
       "    <tr>\n",
       "      <th>12</th>\n",
       "      <td>224.0.0.251</td>\n",
       "      <td>00:16:6c:c2:38:2d</td>\n",
       "      <td>Samsung Electronics Co.,Ltd</td>\n",
       "    </tr>\n",
       "    <tr>\n",
       "      <th>18</th>\n",
       "      <td>8.8.8.8</td>\n",
       "      <td>00:16:6c:c2:38:2d</td>\n",
       "      <td>Samsung Electronics Co.,Ltd</td>\n",
       "    </tr>\n",
       "    <tr>\n",
       "      <th>26</th>\n",
       "      <td>208.75.88.4</td>\n",
       "      <td>00:16:6c:c2:38:2d</td>\n",
       "      <td>Samsung Electronics Co.,Ltd</td>\n",
       "    </tr>\n",
       "  </tbody>\n",
       "</table>\n",
       "</div>"
      ],
      "text/plain": [
       "                          ip.dst            eth.src  \\\n",
       "0                            NaN  00:16:6c:c2:38:2d   \n",
       "1                255.255.255.255  00:16:6c:c2:38:2d   \n",
       "2                 192.168.144.25  dc:a6:32:37:d1:e2   \n",
       "7                     224.0.0.22  00:16:6c:c2:38:2d   \n",
       "9                            NaN  dc:a6:32:37:d1:e2   \n",
       "10                 192.168.144.1  00:16:6c:c2:38:2d   \n",
       "11  192.168.144.25,192.168.144.1  dc:a6:32:37:d1:e2   \n",
       "12                   224.0.0.251  00:16:6c:c2:38:2d   \n",
       "18                       8.8.8.8  00:16:6c:c2:38:2d   \n",
       "26                   208.75.88.4  00:16:6c:c2:38:2d   \n",
       "\n",
       "                         ouiman  \n",
       "0   Samsung Electronics Co.,Ltd  \n",
       "1   Samsung Electronics Co.,Ltd  \n",
       "2      Raspberry Pi Trading Ltd  \n",
       "7   Samsung Electronics Co.,Ltd  \n",
       "9      Raspberry Pi Trading Ltd  \n",
       "10  Samsung Electronics Co.,Ltd  \n",
       "11     Raspberry Pi Trading Ltd  \n",
       "12  Samsung Electronics Co.,Ltd  \n",
       "18  Samsung Electronics Co.,Ltd  \n",
       "26  Samsung Electronics Co.,Ltd  "
      ]
     },
     "execution_count": 23,
     "metadata": {},
     "output_type": "execute_result"
    }
   ],
   "source": [
    "###\n",
    "# based on each TCP connection, there's an association\n",
    "# between your local device and an external ip address.\n",
    "# ip_mac will hold that mapping to use later on\n",
    "ip_mac=dfpcap1[['ip.dst','eth.src']].drop_duplicates()\n",
    "ouieth=[]\n",
    "ouiman=[]\n",
    "for index, row in ip_mac.iterrows():\n",
    "    ouiman.append(ouidf[ouidf['macoui']==row['eth.src'][:8]]['macman'].iloc[0])\n",
    "ip_mac['ouiman']=ouiman\n",
    "ip_mac.head(10)"
   ]
  },
  {
   "cell_type": "code",
   "execution_count": 24,
   "metadata": {},
   "outputs": [
    {
     "data": {
      "text/html": [
       "<div>\n",
       "<style scoped>\n",
       "    .dataframe tbody tr th:only-of-type {\n",
       "        vertical-align: middle;\n",
       "    }\n",
       "\n",
       "    .dataframe tbody tr th {\n",
       "        vertical-align: top;\n",
       "    }\n",
       "\n",
       "    .dataframe thead th {\n",
       "        text-align: right;\n",
       "    }\n",
       "</style>\n",
       "<table border=\"1\" class=\"dataframe\">\n",
       "  <thead>\n",
       "    <tr style=\"text-align: right;\">\n",
       "      <th></th>\n",
       "      <th>ip.dst</th>\n",
       "      <th>frame.number</th>\n",
       "      <th>eth.src</th>\n",
       "      <th>ouiman</th>\n",
       "    </tr>\n",
       "  </thead>\n",
       "  <tbody>\n",
       "    <tr>\n",
       "      <th>0</th>\n",
       "      <td>3.215.71.47</td>\n",
       "      <td>2514</td>\n",
       "      <td>00:16:6c:c2:38:2d</td>\n",
       "      <td>Samsung Electronics Co.,Ltd</td>\n",
       "    </tr>\n",
       "    <tr>\n",
       "      <th>1</th>\n",
       "      <td>52.9.179.227</td>\n",
       "      <td>120</td>\n",
       "      <td>00:16:6c:c2:38:2d</td>\n",
       "      <td>Samsung Electronics Co.,Ltd</td>\n",
       "    </tr>\n",
       "    <tr>\n",
       "      <th>2</th>\n",
       "      <td>128.135.11.14</td>\n",
       "      <td>38</td>\n",
       "      <td>00:16:6c:c2:38:2d</td>\n",
       "      <td>Samsung Electronics Co.,Ltd</td>\n",
       "    </tr>\n",
       "    <tr>\n",
       "      <th>3</th>\n",
       "      <td>8.8.8.8</td>\n",
       "      <td>15</td>\n",
       "      <td>00:16:6c:c2:38:2d</td>\n",
       "      <td>Samsung Electronics Co.,Ltd</td>\n",
       "    </tr>\n",
       "    <tr>\n",
       "      <th>4</th>\n",
       "      <td>224.0.0.251</td>\n",
       "      <td>14</td>\n",
       "      <td>00:16:6c:c2:38:2d</td>\n",
       "      <td>Samsung Electronics Co.,Ltd</td>\n",
       "    </tr>\n",
       "  </tbody>\n",
       "</table>\n",
       "</div>"
      ],
      "text/plain": [
       "          ip.dst  frame.number            eth.src                       ouiman\n",
       "0    3.215.71.47          2514  00:16:6c:c2:38:2d  Samsung Electronics Co.,Ltd\n",
       "1   52.9.179.227           120  00:16:6c:c2:38:2d  Samsung Electronics Co.,Ltd\n",
       "2  128.135.11.14            38  00:16:6c:c2:38:2d  Samsung Electronics Co.,Ltd\n",
       "3        8.8.8.8            15  00:16:6c:c2:38:2d  Samsung Electronics Co.,Ltd\n",
       "4    224.0.0.251            14  00:16:6c:c2:38:2d  Samsung Electronics Co.,Ltd"
      ]
     },
     "execution_count": 24,
     "metadata": {},
     "output_type": "execute_result"
    }
   ],
   "source": [
    "# We want to say, for example:\n",
    "# my Apple device (a4:83:8e7) connected to an ip address\n",
    "# in ireland while I was interacting with it.\n",
    "# The ip address is managed by a known XYZs ISP or CDN.\n",
    "\n",
    "###\n",
    "# count frames (packets) for each internet connection destination (end-point)\n",
    "# rename the ip.src for ip.dst, this is a small hack to allow as to join dfs.\n",
    "ip_dir='ip.dst' # ip.dst == upload direction, for download use ip.src\n",
    "frames_per_dest=dfpcap1.loc[~dfpcap1[ip_dir].str.startswith('192.168.', na=False)].\\\n",
    "    groupby(ip_dir)['frame.number'].nunique().reset_index().rename(columns={'ip.src':'ip.dst'})\n",
    "#frames_per_dest.head(10)\n",
    "\n",
    "##\n",
    "# join with ip_mac to see which device is the local IoT Endpoint\n",
    "# we want to know the exact ouiman (eg, Apple, Inc.) Involved in the\n",
    "# connection\n",
    "connection=frames_per_dest.set_index('ip.dst').join(ip_mac.set_index('ip.dst')).\\\n",
    "    sort_values(by=['frame.number'], ascending=False).reset_index()\n",
    "top5loc=connection.head(5) #we are only processing the top talkers here\n",
    "top5loc                    #ideally we want to account for all of the connections"
   ]
  },
  {
   "cell_type": "code",
   "execution_count": 25,
   "metadata": {},
   "outputs": [
    {
     "data": {
      "text/plain": [
       "'OK'"
      ]
     },
     "execution_count": 25,
     "metadata": {},
     "output_type": "execute_result"
    }
   ],
   "source": [
    "##\n",
    "# We will use the IoT Lab API to help with geoip mapping\n",
    "# run this cell connected to the IoT Lab Wifi\n",
    "# this should print \"OK\" meaning that our local API is up and running\n",
    "r = requests.request(\"GET\", iotlaburl)\n",
    "r.text"
   ]
  },
  {
   "cell_type": "markdown",
   "metadata": {},
   "source": [
    "\n",
    "##### At this point you should be able to have all the data in the right format (dataframe) to start visualizing some interesting graphics.\n",
    "- oui dataset\n",
    "- pcap file\n",
    "- local API access\n",
    "- connection list with merged data from oui \n"
   ]
  },
  {
   "cell_type": "markdown",
   "metadata": {},
   "source": [
    "### 3. Plotting TCP/UDP End-points Using Geo Location of IP addresses"
   ]
  },
  {
   "cell_type": "markdown",
   "metadata": {},
   "source": [
    "Usually, geoip locations can provide a very good source of information\n",
    "to help investigate the source and destination of IoT communications.\n",
    "We're going to use a wrapper API around MaxMind GeoIP Dataset. It's not\n",
    "100% accurate in terms of finding the exact location, but it's\n",
    "reliable when it comes to find the organizations behind the management\n",
    "of these IP destinations. For more information: https://www.maxmind.com/en/geoip-demo"
   ]
  },
  {
   "cell_type": "code",
   "execution_count": 26,
   "metadata": {},
   "outputs": [],
   "source": [
    "###\n",
    "# If you have any trouble importing the libraries below\n",
    "# uncomment and run this block of commands. \n",
    "# A different path may be required for windows.\n",
    "\n",
    "#!pip3 install virtualenv # install virtual environment\n",
    "#!virtualenv venv # create venv folder to hold all the packages\n",
    "#!source venv/bin/activate; pip3 install -r requirements.txt #<--- all the dependencies for this notebook\n",
    "#import sys\n",
    "#sys.path.append(\"venv/lib/python3.7/site-packages\")\n",
    "\n",
    "from bokeh.io import output_file, show, save\n",
    "from bokeh.models import GeoJSONDataSource\n",
    "from bokeh.plotting import figure\n",
    "from bokeh.sampledata.sample_geojson import geojson\n",
    "from bokeh.tile_providers import get_provider, Vendors\n",
    "from bokeh.models import ColumnDataSource, HoverTool\n",
    "import json\n",
    "from IPython.display import IFrame\n",
    "import math"
   ]
  },
  {
   "cell_type": "code",
   "execution_count": 27,
   "metadata": {},
   "outputs": [
    {
     "name": "stdout",
     "output_type": "stream",
     "text": [
      "{'error': 'unable to query API'} resolving 224.0.0.251\n",
      "{'error': 'unable to query API'} resolving 224.0.0.22\n",
      "{'error': 'unable to query API'} resolving 255.255.255.255\n"
     ]
    },
    {
     "data": {
      "text/html": [
       "<div>\n",
       "<style scoped>\n",
       "    .dataframe tbody tr th:only-of-type {\n",
       "        vertical-align: middle;\n",
       "    }\n",
       "\n",
       "    .dataframe tbody tr th {\n",
       "        vertical-align: top;\n",
       "    }\n",
       "\n",
       "    .dataframe thead th {\n",
       "        text-align: right;\n",
       "    }\n",
       "</style>\n",
       "<table border=\"1\" class=\"dataframe\">\n",
       "  <thead>\n",
       "    <tr style=\"text-align: right;\">\n",
       "      <th></th>\n",
       "      <th>ip.dst</th>\n",
       "      <th>frame.number</th>\n",
       "      <th>eth.src</th>\n",
       "      <th>ouiman</th>\n",
       "      <th>isp</th>\n",
       "      <th>city</th>\n",
       "      <th>country</th>\n",
       "      <th>lat</th>\n",
       "      <th>lng</th>\n",
       "      <th>continent</th>\n",
       "      <th>color</th>\n",
       "    </tr>\n",
       "  </thead>\n",
       "  <tbody>\n",
       "    <tr>\n",
       "      <th>0</th>\n",
       "      <td>3.215.71.47</td>\n",
       "      <td>2514</td>\n",
       "      <td>00:16:6c:c2:38:2d</td>\n",
       "      <td>Samsung Electronics Co.,Ltd</td>\n",
       "      <td>Amazon.com</td>\n",
       "      <td>Ashburn</td>\n",
       "      <td>US</td>\n",
       "      <td>39.0481</td>\n",
       "      <td>-77.4728</td>\n",
       "      <td>North America</td>\n",
       "      <td>green</td>\n",
       "    </tr>\n",
       "    <tr>\n",
       "      <th>1</th>\n",
       "      <td>52.9.179.227</td>\n",
       "      <td>120</td>\n",
       "      <td>00:16:6c:c2:38:2d</td>\n",
       "      <td>Samsung Electronics Co.,Ltd</td>\n",
       "      <td>Amazon.com</td>\n",
       "      <td>San Jose</td>\n",
       "      <td>US</td>\n",
       "      <td>37.3388</td>\n",
       "      <td>-121.8914</td>\n",
       "      <td>North America</td>\n",
       "      <td>green</td>\n",
       "    </tr>\n",
       "    <tr>\n",
       "      <th>2</th>\n",
       "      <td>128.135.11.14</td>\n",
       "      <td>38</td>\n",
       "      <td>00:16:6c:c2:38:2d</td>\n",
       "      <td>Samsung Electronics Co.,Ltd</td>\n",
       "      <td>University of Chicago</td>\n",
       "      <td>Chicago</td>\n",
       "      <td>US</td>\n",
       "      <td>41.7821</td>\n",
       "      <td>-87.6046</td>\n",
       "      <td>North America</td>\n",
       "      <td>green</td>\n",
       "    </tr>\n",
       "    <tr>\n",
       "      <th>3</th>\n",
       "      <td>8.8.8.8</td>\n",
       "      <td>15</td>\n",
       "      <td>00:16:6c:c2:38:2d</td>\n",
       "      <td>Samsung Electronics Co.,Ltd</td>\n",
       "      <td>Google</td>\n",
       "      <td>Dallas</td>\n",
       "      <td>US</td>\n",
       "      <td>32.7889</td>\n",
       "      <td>-96.8021</td>\n",
       "      <td>North America</td>\n",
       "      <td>green</td>\n",
       "    </tr>\n",
       "    <tr>\n",
       "      <th>4</th>\n",
       "      <td>224.0.0.251</td>\n",
       "      <td>14</td>\n",
       "      <td>00:16:6c:c2:38:2d</td>\n",
       "      <td>Samsung Electronics Co.,Ltd</td>\n",
       "      <td></td>\n",
       "      <td></td>\n",
       "      <td></td>\n",
       "      <td>0.0000</td>\n",
       "      <td>0.0000</td>\n",
       "      <td></td>\n",
       "      <td>green</td>\n",
       "    </tr>\n",
       "  </tbody>\n",
       "</table>\n",
       "</div>"
      ],
      "text/plain": [
       "          ip.dst  frame.number            eth.src  \\\n",
       "0    3.215.71.47          2514  00:16:6c:c2:38:2d   \n",
       "1   52.9.179.227           120  00:16:6c:c2:38:2d   \n",
       "2  128.135.11.14            38  00:16:6c:c2:38:2d   \n",
       "3        8.8.8.8            15  00:16:6c:c2:38:2d   \n",
       "4    224.0.0.251            14  00:16:6c:c2:38:2d   \n",
       "\n",
       "                        ouiman                    isp      city country  \\\n",
       "0  Samsung Electronics Co.,Ltd             Amazon.com   Ashburn      US   \n",
       "1  Samsung Electronics Co.,Ltd             Amazon.com  San Jose      US   \n",
       "2  Samsung Electronics Co.,Ltd  University of Chicago   Chicago      US   \n",
       "3  Samsung Electronics Co.,Ltd                 Google    Dallas      US   \n",
       "4  Samsung Electronics Co.,Ltd                                            \n",
       "\n",
       "       lat       lng      continent  color  \n",
       "0  39.0481  -77.4728  North America  green  \n",
       "1  37.3388 -121.8914  North America  green  \n",
       "2  41.7821  -87.6046  North America  green  \n",
       "3  32.7889  -96.8021  North America  green  \n",
       "4   0.0000    0.0000                 green  "
      ]
     },
     "execution_count": 27,
     "metadata": {},
     "output_type": "execute_result"
    }
   ],
   "source": [
    "###\n",
    "# This should take some serious time if pcap is larger than 200MB - be prepared.\n",
    "# \n",
    "# What to expect: known names in the ISP, like google, amazon, fastly\n",
    "# Not all ips have a clear location, sometimes CDNs provide ip collocation\n",
    "# to make content delivery accessible at the edge with low latency.\n",
    "# In that case, MaxMind may return records with empty city strings\n",
    "\n",
    "isp = []\n",
    "city = []\n",
    "country = []\n",
    "lat = []\n",
    "lng = []\n",
    "continent = []\n",
    "color = []\n",
    "for index, row in connection.iterrows():\n",
    "    url=urljoin(iotlaburl+\"/geoip/\", row['ip.dst'])\n",
    "    r = requests.request(\"GET\", url)\n",
    "    j = r.json()\n",
    "    try:\n",
    "        if j['error'] is not None:\n",
    "            print(str(j)+\" resolving \"+row['ip.dst'])\n",
    "            isp.append('')\n",
    "            city.append('')\n",
    "            country.append('')\n",
    "            lat.append(0.0)\n",
    "            lng.append(0.0)\n",
    "            continent.append('')\n",
    "            color.append('green')\n",
    "            continue\n",
    "    except KeyError as ke:\n",
    "        pass\n",
    "    \n",
    "    isp.append(j['isp'])\n",
    "    city.append(j['city'])\n",
    "    country.append(j['country'])\n",
    "    lat.append(float(j['lat']))\n",
    "    lng.append(float(j['lng']))\n",
    "    continent.append(j['continent'])\n",
    "    color.append('green') # TODO: anomaly detection here, mark red\n",
    "    #print(r.json())\n",
    "connection['isp']=isp\n",
    "connection['city']=city\n",
    "connection['country']=country\n",
    "connection['lat']=lat\n",
    "connection['lng']=lng\n",
    "connection['continent']=continent\n",
    "connection['color']=color\n",
    "connection.head(5)"
   ]
  },
  {
   "cell_type": "code",
   "execution_count": 28,
   "metadata": {},
   "outputs": [],
   "source": [
    "#lift from\n",
    "#https://towardsdatascience.com/\n",
    "#exploring-and-visualizing-chicago-transit-data-using-pandas-and-bokeh-part-ii-intro-to-bokeh-5dca6c5ced10\n",
    "def merc(Coords, origin):\n",
    "\n",
    "    if Coords is None:\n",
    "        return (0,0) \n",
    "\n",
    "    lat = Coords['lat']\n",
    "    lng = Coords['lng']\n",
    "  \n",
    "    if (lat == 0.0 and lng == 0.0):\n",
    "        if origin:\n",
    "            lat = origin['lat']\n",
    "            lng = origin['lng']\n",
    "        else:\n",
    "            return (0, 0)\n",
    "\n",
    "    r_major = 6378137.000\n",
    "    x = r_major * math.radians(lng)\n",
    "    scale = x/lng\n",
    "    y = 180.0/math.pi * math.log(math.tan(math.pi/4.0 + \n",
    "        lat * (math.pi/180.0)/2.0)) * scale\n",
    "    return (x, y)"
   ]
  },
  {
   "cell_type": "code",
   "execution_count": 29,
   "metadata": {},
   "outputs": [],
   "source": [
    "# Where are you now? (this is optional, just to plot some cool lines)\n",
    "origin = {'lat':41.795,'lng':-87.60} #Chicago, Hyde Park, US\n",
    "#origin = None"
   ]
  },
  {
   "cell_type": "code",
   "execution_count": 30,
   "metadata": {},
   "outputs": [],
   "source": [
    "coords = dict( #coordinates for hover tool\n",
    "    xs = [],\n",
    "    ys = [],\n",
    "    x = [],\n",
    "    y = [],\n",
    "    isp = [],\n",
    "    oui = [],\n",
    "    color = [],\n",
    ")\n",
    "for index, row in connection.iterrows():\n",
    "    d=row.to_dict()\n",
    "    o=merc(origin, origin)\n",
    "    c=merc(d, origin)\n",
    "    d['xs']=c[0]\n",
    "    d['ys']=c[1]\n",
    "    coords['xs'].append([o[0], c[0]]) #line for multiline plot\n",
    "    coords['ys'].append([o[1], c[1]]) #line for multiline plot\n",
    "    coords['x'].append(c[0])\n",
    "    coords['y'].append(c[1])\n",
    "    coords['isp'].append(d['isp'])\n",
    "    coords['oui'].append(d['ouiman'])\n",
    "    coords['color'].append(\"green\") # TODO: Mark \"red\" anomalies / suspicious connections"
   ]
  },
  {
   "cell_type": "code",
   "execution_count": 31,
   "metadata": {},
   "outputs": [
    {
     "data": {
      "text/html": [
       "\n",
       "        <iframe\n",
       "            width=\"950\"\n",
       "            height=\"520\"\n",
       "            src=\"./tile1.html\"\n",
       "            frameborder=\"0\"\n",
       "            allowfullscreen\n",
       "        ></iframe>\n",
       "        "
      ],
      "text/plain": [
       "<IPython.lib.display.IFrame at 0x11cfb7b90>"
      ]
     },
     "execution_count": 31,
     "metadata": {},
     "output_type": "execute_result"
    }
   ],
   "source": [
    "def map_plot(coords, origin = None, title = None):\n",
    "    \"\"\"Plot multiple points in a world map using array of dict coordinates.\n",
    "\n",
    "    Keyword arguments:\n",
    "    coords -- array of dict objects containing lat,lng,color \n",
    "              eg. [{lat: 41.795, lng: -87.60, color: 'green'}]\n",
    "    origin -- coordinates for your origin location (default None)\n",
    "    \"\"\"\n",
    "    \n",
    "    if origin:\n",
    "        o = merc(origin, origin)\n",
    "        x_origin = [o[0]]\n",
    "        y_origin = [o[1]]\n",
    "        \n",
    "    tile_provider = get_provider(Vendors.CARTODBPOSITRON)\n",
    "\n",
    "    ### Hover Tool ###\n",
    "    source = ColumnDataSource(data=coords)\n",
    "    \n",
    "    # TODO: enable the hover tool to display ISP information\n",
    "    hover = HoverTool(tooltips=[\n",
    "        (\"isp\", \"@isp\"),\n",
    "        (\"oui\",\"@oui\")\n",
    "    ])\n",
    "\n",
    "    p = figure(x_range=(-18780000, 18000000), y_range=(-1000000, 7000000),\n",
    "               x_axis_type=\"mercator\", y_axis_type=\"mercator\", \n",
    "               plot_width = 900, plot_height = 500, title = title,\n",
    "               tools=[hover, '','box_zoom','wheel_zoom','save'],\n",
    "               toolbar_location=\"below\") \n",
    "    #https://docs.bokeh.org/en/latest/docs/user_guide/tools.html\n",
    "    \n",
    "    p.add_tile(tile_provider)\n",
    "\n",
    "    if origin:\n",
    "        p.circle(x=x_origin, y=y_origin, size=10, color=\"black\")\n",
    "\n",
    "    ###\n",
    "    # plot multiple lines coming from the origin to dest. coordinates\n",
    "    #\n",
    "    if origin:\n",
    "        p.multi_line(xs='xs',\n",
    "                     ys='ys',\n",
    "                     color='color',\n",
    "                     line_width=2, source=source)\n",
    "    ###\n",
    "    # only plot point coordinates\n",
    "    #\n",
    "\n",
    "    p.circle(x='x', y='y', size=10, color='color', source=source)\n",
    "\n",
    "    output_file(\"tile1.html\")\n",
    "    save(p)\n",
    "    return IFrame(src='./tile1.html', width=950, height=520)\n",
    "    \n",
    "\n",
    "map_plot (coords, origin, title='TCP/UDP End Points')\n"
   ]
  },
  {
   "cell_type": "code",
   "execution_count": 32,
   "metadata": {},
   "outputs": [
    {
     "data": {
      "text/html": [
       "<div>\n",
       "<style scoped>\n",
       "    .dataframe tbody tr th:only-of-type {\n",
       "        vertical-align: middle;\n",
       "    }\n",
       "\n",
       "    .dataframe tbody tr th {\n",
       "        vertical-align: top;\n",
       "    }\n",
       "\n",
       "    .dataframe thead th {\n",
       "        text-align: right;\n",
       "    }\n",
       "</style>\n",
       "<table border=\"1\" class=\"dataframe\">\n",
       "  <thead>\n",
       "    <tr style=\"text-align: right;\">\n",
       "      <th></th>\n",
       "      <th>ip.dst</th>\n",
       "      <th>frame.number</th>\n",
       "      <th>eth.src</th>\n",
       "      <th>ouiman</th>\n",
       "      <th>isp</th>\n",
       "      <th>city</th>\n",
       "      <th>country</th>\n",
       "      <th>lat</th>\n",
       "      <th>lng</th>\n",
       "      <th>continent</th>\n",
       "      <th>color</th>\n",
       "    </tr>\n",
       "    <tr>\n",
       "      <th>continent</th>\n",
       "      <th></th>\n",
       "      <th></th>\n",
       "      <th></th>\n",
       "      <th></th>\n",
       "      <th></th>\n",
       "      <th></th>\n",
       "      <th></th>\n",
       "      <th></th>\n",
       "      <th></th>\n",
       "      <th></th>\n",
       "      <th></th>\n",
       "    </tr>\n",
       "  </thead>\n",
       "  <tbody>\n",
       "    <tr>\n",
       "      <th></th>\n",
       "      <td>3</td>\n",
       "      <td>3</td>\n",
       "      <td>1</td>\n",
       "      <td>1</td>\n",
       "      <td>1</td>\n",
       "      <td>1</td>\n",
       "      <td>1</td>\n",
       "      <td>1</td>\n",
       "      <td>1</td>\n",
       "      <td>1</td>\n",
       "      <td>1</td>\n",
       "    </tr>\n",
       "    <tr>\n",
       "      <th>North America</th>\n",
       "      <td>9</td>\n",
       "      <td>8</td>\n",
       "      <td>1</td>\n",
       "      <td>1</td>\n",
       "      <td>5</td>\n",
       "      <td>7</td>\n",
       "      <td>1</td>\n",
       "      <td>7</td>\n",
       "      <td>7</td>\n",
       "      <td>1</td>\n",
       "      <td>1</td>\n",
       "    </tr>\n",
       "  </tbody>\n",
       "</table>\n",
       "</div>"
      ],
      "text/plain": [
       "               ip.dst  frame.number  eth.src  ouiman  isp  city  country  lat  \\\n",
       "continent                                                                       \n",
       "                    3             3        1       1    1     1        1    1   \n",
       "North America       9             8        1       1    5     7        1    7   \n",
       "\n",
       "               lng  continent  color  \n",
       "continent                             \n",
       "                 1          1      1  \n",
       "North America    7          1      1  "
      ]
     },
     "execution_count": 32,
     "metadata": {},
     "output_type": "execute_result"
    }
   ],
   "source": [
    "##\n",
    "# Anything outside US?\n",
    "connection.groupby('continent').nunique()"
   ]
  },
  {
   "cell_type": "markdown",
   "metadata": {},
   "source": [
    "##### At this point you should be able to see a world map with multiple green lines coming  from a single origin location (Chicago)\n",
    "- the map is an interactive map, you can pan and zoom in/out;\n",
    "- note that the larger the pcap, more difficult is too visualize as several lines are expected;\n",
    "- a million dolar question is: how can we flag suspicious connection coming from a compromised IoT devices? "
   ]
  },
  {
   "cell_type": "code",
   "execution_count": 33,
   "metadata": {},
   "outputs": [
    {
     "data": {
      "text/html": [
       "<div>\n",
       "<style scoped>\n",
       "    .dataframe tbody tr th:only-of-type {\n",
       "        vertical-align: middle;\n",
       "    }\n",
       "\n",
       "    .dataframe tbody tr th {\n",
       "        vertical-align: top;\n",
       "    }\n",
       "\n",
       "    .dataframe thead th {\n",
       "        text-align: right;\n",
       "    }\n",
       "</style>\n",
       "<table border=\"1\" class=\"dataframe\">\n",
       "  <thead>\n",
       "    <tr style=\"text-align: right;\">\n",
       "      <th></th>\n",
       "      <th>ip.dst</th>\n",
       "      <th>frame.number</th>\n",
       "      <th>eth.src</th>\n",
       "      <th>ouiman</th>\n",
       "      <th>isp</th>\n",
       "      <th>city</th>\n",
       "      <th>country</th>\n",
       "      <th>lat</th>\n",
       "      <th>lng</th>\n",
       "      <th>continent</th>\n",
       "      <th>color</th>\n",
       "    </tr>\n",
       "  </thead>\n",
       "  <tbody>\n",
       "  </tbody>\n",
       "</table>\n",
       "</div>"
      ],
      "text/plain": [
       "Empty DataFrame\n",
       "Columns: [ip.dst, frame.number, eth.src, ouiman, isp, city, country, lat, lng, continent, color]\n",
       "Index: []"
      ]
     },
     "execution_count": 33,
     "metadata": {},
     "output_type": "execute_result"
    }
   ],
   "source": [
    "##\n",
    "# any connection to Europe or Asia?\n",
    "connection[connection['lng']>0]"
   ]
  },
  {
   "cell_type": "markdown",
   "metadata": {},
   "source": [
    "### 4. Visualizing IoT Network Traffic Over Time\n",
    "\n",
    "Here we want to inspect the TCP/UDP connections established by the device looking at the volume of data sent and received over the time duration of the packet capture. We used camera4.pcap, a good example of capturing a very well known interaction with a Samsung camera. We started and stopped a video session 2 times remaining idle for 1 or 2 minutes. The traffic capturing (wireshark, tshark or tcpdump) was running throughout the entire experiment session capturing both video sessions and the idle period. \n",
    "\n",
    "For a device like a camera, the volume of traffic is expected to increase abruptly and remain high as compared to the idle state. It should be relatively steady at a higher level during the video streaming period. If the camera isn't being used, minimal or no traffic is expected. Please keep in mind that smart cameras might even avoid send data if no movement is detected. Also, the behavior of other types of IoT devices should be different and it won't be always clear what would be the traffic pattern of your smart refrigerator, for example.\n",
    " \n",
    "If the packet capture only contains traffic for 1 or 2 devices with a few minutes, that's not really a problem to analyze, but if we are considering a dataset with multiple devices, it becomes really challenging to visualize, therefore better tools and methods are required. Not to mention, this is only a tiny snapshot in time. As you read this, tons of data are being generated to the point where only an automated / systematic approach to expose anomalies can make a difference.\n"
   ]
  },
  {
   "cell_type": "code",
   "execution_count": 34,
   "metadata": {},
   "outputs": [],
   "source": [
    "import numpy as np\n",
    "from matplotlib import pyplot as plt"
   ]
  },
  {
   "cell_type": "code",
   "execution_count": 35,
   "metadata": {},
   "outputs": [
    {
     "name": "stdout",
     "output_type": "stream",
     "text": [
      "single positional indexer is out-of-bounds ff:ff:ff:ff:ff:ff\n",
      "single positional indexer is out-of-bounds ff:ff:ff:ff:ff:ff\n",
      "single positional indexer is out-of-bounds 01:00:5e:00:00:16\n",
      "single positional indexer is out-of-bounds 01:00:5e:00:00:fb\n"
     ]
    },
    {
     "data": {
      "text/html": [
       "<div>\n",
       "<style scoped>\n",
       "    .dataframe tbody tr th:only-of-type {\n",
       "        vertical-align: middle;\n",
       "    }\n",
       "\n",
       "    .dataframe tbody tr th {\n",
       "        vertical-align: top;\n",
       "    }\n",
       "\n",
       "    .dataframe thead th {\n",
       "        text-align: right;\n",
       "    }\n",
       "</style>\n",
       "<table border=\"1\" class=\"dataframe\">\n",
       "  <thead>\n",
       "    <tr style=\"text-align: right;\">\n",
       "      <th></th>\n",
       "      <th>ip.dst</th>\n",
       "      <th>eth.dst</th>\n",
       "      <th>ouiman</th>\n",
       "    </tr>\n",
       "  </thead>\n",
       "  <tbody>\n",
       "    <tr>\n",
       "      <th>0</th>\n",
       "      <td>NaN</td>\n",
       "      <td>ff:ff:ff:ff:ff:ff</td>\n",
       "      <td></td>\n",
       "    </tr>\n",
       "    <tr>\n",
       "      <th>1</th>\n",
       "      <td>255.255.255.255</td>\n",
       "      <td>ff:ff:ff:ff:ff:ff</td>\n",
       "      <td></td>\n",
       "    </tr>\n",
       "    <tr>\n",
       "      <th>2</th>\n",
       "      <td>192.168.144.25</td>\n",
       "      <td>00:16:6c:c2:38:2d</td>\n",
       "      <td>Samsung Electronics Co.,Ltd</td>\n",
       "    </tr>\n",
       "    <tr>\n",
       "      <th>7</th>\n",
       "      <td>224.0.0.22</td>\n",
       "      <td>01:00:5e:00:00:16</td>\n",
       "      <td></td>\n",
       "    </tr>\n",
       "    <tr>\n",
       "      <th>9</th>\n",
       "      <td>NaN</td>\n",
       "      <td>00:16:6c:c2:38:2d</td>\n",
       "      <td>Samsung Electronics Co.,Ltd</td>\n",
       "    </tr>\n",
       "    <tr>\n",
       "      <th>10</th>\n",
       "      <td>192.168.144.1</td>\n",
       "      <td>dc:a6:32:37:d1:e2</td>\n",
       "      <td>Raspberry Pi Trading Ltd</td>\n",
       "    </tr>\n",
       "    <tr>\n",
       "      <th>11</th>\n",
       "      <td>192.168.144.25,192.168.144.1</td>\n",
       "      <td>00:16:6c:c2:38:2d</td>\n",
       "      <td>Samsung Electronics Co.,Ltd</td>\n",
       "    </tr>\n",
       "    <tr>\n",
       "      <th>12</th>\n",
       "      <td>224.0.0.251</td>\n",
       "      <td>01:00:5e:00:00:fb</td>\n",
       "      <td></td>\n",
       "    </tr>\n",
       "    <tr>\n",
       "      <th>18</th>\n",
       "      <td>8.8.8.8</td>\n",
       "      <td>dc:a6:32:37:d1:e2</td>\n",
       "      <td>Raspberry Pi Trading Ltd</td>\n",
       "    </tr>\n",
       "    <tr>\n",
       "      <th>26</th>\n",
       "      <td>208.75.88.4</td>\n",
       "      <td>dc:a6:32:37:d1:e2</td>\n",
       "      <td>Raspberry Pi Trading Ltd</td>\n",
       "    </tr>\n",
       "  </tbody>\n",
       "</table>\n",
       "</div>"
      ],
      "text/plain": [
       "                          ip.dst            eth.dst  \\\n",
       "0                            NaN  ff:ff:ff:ff:ff:ff   \n",
       "1                255.255.255.255  ff:ff:ff:ff:ff:ff   \n",
       "2                 192.168.144.25  00:16:6c:c2:38:2d   \n",
       "7                     224.0.0.22  01:00:5e:00:00:16   \n",
       "9                            NaN  00:16:6c:c2:38:2d   \n",
       "10                 192.168.144.1  dc:a6:32:37:d1:e2   \n",
       "11  192.168.144.25,192.168.144.1  00:16:6c:c2:38:2d   \n",
       "12                   224.0.0.251  01:00:5e:00:00:fb   \n",
       "18                       8.8.8.8  dc:a6:32:37:d1:e2   \n",
       "26                   208.75.88.4  dc:a6:32:37:d1:e2   \n",
       "\n",
       "                         ouiman  \n",
       "0                                \n",
       "1                                \n",
       "2   Samsung Electronics Co.,Ltd  \n",
       "7                                \n",
       "9   Samsung Electronics Co.,Ltd  \n",
       "10     Raspberry Pi Trading Ltd  \n",
       "11  Samsung Electronics Co.,Ltd  \n",
       "12                               \n",
       "18     Raspberry Pi Trading Ltd  \n",
       "26     Raspberry Pi Trading Ltd  "
      ]
     },
     "execution_count": 35,
     "metadata": {},
     "output_type": "execute_result"
    }
   ],
   "source": [
    "###\n",
    "# based on each TCP connection, there's an association\n",
    "# between your local device and an external ip address.\n",
    "# ip_mac will hold that mapping to use later on\n",
    "ip_mac_map=dfpcap1[['ip.dst','eth.dst']].drop_duplicates()\n",
    "ouieth=[]\n",
    "ouiman=[]\n",
    "for index, row in ip_mac_map.iterrows():\n",
    "    try:\n",
    "        ouiman.append(ouidf[ouidf['macoui']==row['eth.dst'][:8]]['macman'].iloc[0])\n",
    "    except Exception as e:\n",
    "        print(str(e) + \" \" + row['eth.dst'])\n",
    "        ouiman.append('')\n",
    "              \n",
    "ip_mac_map['ouiman']=ouiman\n",
    "ip_mac_map.head(10)"
   ]
  },
  {
   "cell_type": "code",
   "execution_count": 36,
   "metadata": {},
   "outputs": [
    {
     "name": "stdout",
     "output_type": "stream",
     "text": [
      "INFO: Processing 25/2 connections.\n",
      "-- Connection 192.168.144.25 00:16:6c:c2:38:2d <-> 3.215.71.47 dc:a6:32:37:d1:e2\n",
      " Total Bytes: 2164160\n",
      " Device: Samsung Electronics Co.,Ltd\n",
      " City: Ashburn\n",
      " ISP: Amazon.com\n",
      " LatLng: 39.0481 -77.4728\n"
     ]
    },
    {
     "data": {
      "image/png": "[encoded data removed]",
      "text/plain": [
       "<Figure size 2160x576 with 1 Axes>"
      ]
     },
     "metadata": {
      "needs_background": "light"
     },
     "output_type": "display_data"
    },
    {
     "name": "stdout",
     "output_type": "stream",
     "text": [
      "-- Connection 52.9.179.227 dc:a6:32:37:d1:e2 <-> 192.168.144.25 00:16:6c:c2:38:2d\n",
      " Total Bytes: 40716\n",
      " Device: Samsung Electronics Co.,Ltd\n",
      " City: San Jose\n",
      " ISP: Amazon.com\n",
      " LatLng: 37.3388 -121.8914\n"
     ]
    },
    {
     "data": {
      "image/png": "[encoded data removed]",
      "text/plain": [
       "<Figure size 2160x576 with 1 Axes>"
      ]
     },
     "metadata": {
      "needs_background": "light"
     },
     "output_type": "display_data"
    },
    {
     "name": "stdout",
     "output_type": "stream",
     "text": [
      "CONTINUE\n",
      "CONTINUE\n",
      "-- Connection 192.168.144.25 00:16:6c:c2:38:2d <-> 224.0.0.251 01:00:5e:00:00:fb\n",
      " Total Bytes: 8892\n",
      " Device: Samsung Electronics Co.,Ltd\n",
      " City: \n",
      " ISP: \n",
      " LatLng: 0.0 0.0\n"
     ]
    },
    {
     "data": {
      "image/png": "[encoded data removed]",
      "text/plain": [
       "<Figure size 2160x576 with 1 Axes>"
      ]
     },
     "metadata": {
      "needs_background": "light"
     },
     "output_type": "display_data"
    },
    {
     "name": "stdout",
     "output_type": "stream",
     "text": [
      "-- Connection 52.87.99.68 dc:a6:32:37:d1:e2 <-> 192.168.144.25 00:16:6c:c2:38:2d\n",
      " Total Bytes: 6042\n",
      " Device: Samsung Electronics Co.,Ltd\n",
      " City: Ashburn\n",
      " ISP: Amazon.com\n",
      " LatLng: 39.0481 -77.4728\n"
     ]
    },
    {
     "data": {
      "image/png": "[encoded data removed]",
      "text/plain": [
       "<Figure size 2160x576 with 1 Axes>"
      ]
     },
     "metadata": {
      "needs_background": "light"
     },
     "output_type": "display_data"
    },
    {
     "name": "stdout",
     "output_type": "stream",
     "text": [
      "-- Connection 192.168.144.25 00:16:6c:c2:38:2d <-> 128.135.11.14 dc:a6:32:37:d1:e2\n",
      " Total Bytes: 3724\n",
      " Device: Samsung Electronics Co.,Ltd\n",
      " City: Chicago\n",
      " ISP: University of Chicago\n",
      " LatLng: 41.7821 -87.6046\n"
     ]
    },
    {
     "data": {
      "image/png": "[encoded data removed]",
      "text/plain": [
       "<Figure size 2160x576 with 1 Axes>"
      ]
     },
     "metadata": {
      "needs_background": "light"
     },
     "output_type": "display_data"
    },
    {
     "name": "stdout",
     "output_type": "stream",
     "text": [
      "-- Connection 192.168.144.25 00:16:6c:c2:38:2d <-> 192.168.143.58 dc:a6:32:37:d1:e2\n",
      " Total Bytes: 3724\n"
     ]
    },
    {
     "data": {
      "image/png": "[encoded data removed]",
      "text/plain": [
       "<Figure size 2160x576 with 1 Axes>"
      ]
     },
     "metadata": {
      "needs_background": "light"
     },
     "output_type": "display_data"
    },
    {
     "name": "stdout",
     "output_type": "stream",
     "text": [
      "Exception:single positional indexer is out-of-bounds\n",
      "-- Connection 192.168.144.25 00:16:6c:c2:38:2d <-> 192.168.144.1 dc:a6:32:37:d1:e2\n",
      " Total Bytes: 2182\n"
     ]
    },
    {
     "data": {
      "image/png": "[encoded data removed]",
      "text/plain": [
       "<Figure size 2160x576 with 1 Axes>"
      ]
     },
     "metadata": {
      "needs_background": "light"
     },
     "output_type": "display_data"
    },
    {
     "name": "stdout",
     "output_type": "stream",
     "text": [
      "-- Connection 99.84.169.20 dc:a6:32:37:d1:e2 <-> 192.168.144.25 00:16:6c:c2:38:2d\n",
      " Total Bytes: 1955\n",
      " Device: Samsung Electronics Co.,Ltd\n",
      " City: Seattle\n",
      " ISP: Amazon CloudFront\n",
      " LatLng: 47.54 -122.3032\n"
     ]
    },
    {
     "data": {
      "image/png": "[encoded data removed]",
      "text/plain": [
       "<Figure size 2160x576 with 1 Axes>"
      ]
     },
     "metadata": {
      "needs_background": "light"
     },
     "output_type": "display_data"
    },
    {
     "name": "stdout",
     "output_type": "stream",
     "text": [
      "-- Connection 8.8.8.8 dc:a6:32:37:d1:e2 <-> 192.168.144.25 00:16:6c:c2:38:2d\n",
      " Total Bytes: 1825\n",
      " Device: Samsung Electronics Co.,Ltd\n",
      " City: Dallas\n",
      " ISP: Google\n",
      " LatLng: 32.7889 -96.8021\n"
     ]
    },
    {
     "data": {
      "image/png": "[encoded data removed]",
      "text/plain": [
       "<Figure size 2160x576 with 1 Axes>"
      ]
     },
     "metadata": {
      "needs_background": "light"
     },
     "output_type": "display_data"
    },
    {
     "name": "stdout",
     "output_type": "stream",
     "text": [
      "CONTINUE\n",
      "CONTINUE\n",
      "CONTINUE\n",
      "CONTINUE\n",
      "-- Connection 99.84.254.11 dc:a6:32:37:d1:e2 <-> 192.168.144.25 00:16:6c:c2:38:2d\n",
      " Total Bytes: 978\n",
      " Device: Samsung Electronics Co.,Ltd\n",
      " City: Seattle\n",
      " ISP: Amazon CloudFront\n",
      " LatLng: 47.54 -122.3032\n"
     ]
    },
    {
     "data": {
      "image/png": "[encoded data removed]",
      "text/plain": [
       "<Figure size 2160x576 with 1 Axes>"
      ]
     },
     "metadata": {
      "needs_background": "light"
     },
     "output_type": "display_data"
    },
    {
     "name": "stdout",
     "output_type": "stream",
     "text": [
      "-- Connection 192.168.144.25 00:16:6c:c2:38:2d <-> 172.253.112.109 dc:a6:32:37:d1:e2\n",
      " Total Bytes: 816\n",
      " Device: Samsung Electronics Co.,Ltd\n",
      " City: \n",
      " ISP: Google\n",
      " LatLng: 37.751 -97.822\n"
     ]
    },
    {
     "data": {
      "image/png": "[encoded data removed]",
      "text/plain": [
       "<Figure size 2160x576 with 1 Axes>"
      ]
     },
     "metadata": {
      "needs_background": "light"
     },
     "output_type": "display_data"
    },
    {
     "name": "stdout",
     "output_type": "stream",
     "text": [
      "CONTINUE\n",
      "Exception:single positional indexer is out-of-bounds\n",
      "CONTINUE\n",
      "-- Connection 192.168.144.25 00:16:6c:c2:38:2d <-> 255.255.255.255 ff:ff:ff:ff:ff:ff\n",
      " Total Bytes: 304\n",
      "-- Connection 192.168.144.25 00:16:6c:c2:38:2d <-> 224.0.0.22 01:00:5e:00:00:16\n",
      " Total Bytes: 244\n",
      "-- Connection 208.75.88.4 dc:a6:32:37:d1:e2 <-> 192.168.144.25 00:16:6c:c2:38:2d\n",
      " Total Bytes: 90\n",
      "CONTINUE\n"
     ]
    }
   ],
   "source": [
    "###\n",
    "# For analyzing or processing network traffic, and precisely \n",
    "# look at the content of each TCP/UDP connection, we usually\n",
    "# group packets by a 5-tuple unique identification of each connection.\n",
    "# The 5-tuple contains ip.src, ip.dst, tcp.dstport, tcp.srcport and ip.proto.\n",
    "# Here we'll use a simplified grouping of packets considering only\n",
    "# ip src and dst addresses.\n",
    "\n",
    "##\n",
    "# Get the length in time_relative of the full pcap and create 1sec time bins\n",
    "bins = list(range(0,int(np.ceil(dfpcap1['frame.time_relative'].max())+1)))\n",
    "bins = [float(x) for x in bins]\n",
    "\n",
    "labels = ['{}-{}'.format(i + 1, j) for i, j in zip(bins[:-1], bins[1:])]\n",
    "labels\n",
    "\n",
    "# Add delta\n",
    "delta=[]\n",
    "for index, row in dfpcap1.iterrows():\n",
    "    delta.append(pd.to_timedelta(int(np.ceil(row['frame.time_relative'])), unit=\"s\"))\n",
    "dfpcap1['delta']=delta\n",
    "\n",
    "# This is ascending the delta increase overtime\n",
    "df_dw = dfpcap1.groupby(['ip.src', 'ip.dst',\\\n",
    "                         pd.Grouper(key='delta', freq='1s')])['frame.len'].sum()\\\n",
    "                         .reset_index().sort_values(by=['delta'], ascending=True)\n",
    "df_up = dfpcap1.groupby(['ip.dst', 'ip.src',\\\n",
    "                         pd.Grouper(key='delta', freq='1s')])['frame.len'].sum()\\\n",
    "                         .reset_index().sort_values(by=['delta'], ascending=True)\n",
    "\n",
    "df_conn=dfpcap1.groupby(['ip.src','ip.dst'])['frame.len'].sum()\\\n",
    "    .reset_index().rename(columns={'frame.len':'total_bytes'})\\\n",
    "    .sort_values(by=['total_bytes'], ascending=False)\n",
    "\n",
    "\n",
    "print(\"INFO: Processing \" + str(len(df_conn.index)) + \"/2 connections.\")\n",
    "\n",
    "visited={}\n",
    "\n",
    "for index, row in df_conn.iterrows():\n",
    "    try: #TODO: better to use hash here\n",
    "        if visited[row['ip.src']+\"-\"+row['ip.dst']]:\n",
    "            print(\"CONTINUE\")\n",
    "            continue\n",
    "    except KeyError as ke:\n",
    "        pass\n",
    "    \n",
    "    # visit the reverse flow as it will be processed in both in one pass\n",
    "    visited[row['ip.dst']+\"-\"+row['ip.src']] = True\n",
    "\n",
    "    try:\n",
    "        eth_src = ip_mac_map[ip_mac_map['ip.dst']==row['ip.src']]['eth.dst'].iloc[0]\n",
    "        eth_dst = ip_mac_map[ip_mac_map['ip.dst']==row['ip.dst']]['eth.dst'].iloc[0]\n",
    "    except Exception as e:\n",
    "        #some frames don't have ip addresses (non-ip protocol packets)\n",
    "        print(\"Exception:\" + str(e))\n",
    "        #pass\n",
    "        continue\n",
    "        \n",
    "    print(\"-- Connection \" + row['ip.src'] + \" \" + eth_src +\n",
    "          \" <-> \"+ row['ip.dst'] + \" \" + eth_dst)\n",
    "    print(\" Total Bytes: \" + str(row['total_bytes']))\n",
    " \n",
    "    ###\n",
    "    # we can suppress tiny size connections, \n",
    "    # but what if it's malware c&c packet?\n",
    "    if row['total_bytes'] < 500:\n",
    "        continue\n",
    "    \n",
    "    ##\n",
    "    # The mac resolution and mapping can be found in both directions\n",
    "    # The connection dataframe dosn't have complete information,\n",
    "    # so one should fail.\n",
    "    direction = ['ip.src', 'ip.dst']\n",
    "    for dir in direction:\n",
    "        try:\n",
    "            print(\" Device: \" + connection[connection['ip.dst']==row[dir]]['ouiman'].iloc[0])\n",
    "        except: pass\n",
    "\n",
    "        try:\n",
    "            print(\" City: \" + connection[connection['ip.dst']==row[dir]]['city'].iloc[0])\n",
    "            print(\" ISP: \" + connection[connection['ip.dst']==row[dir]]['isp'].iloc[0])\n",
    "            print(\" LatLng: \" + str(connection[connection['ip.dst']==row[dir]]['lat'].iloc[0])\n",
    "                + \" \" + str(connection[connection['ip.dst']==row[dir]]['lng'].iloc[0]))\n",
    "        except Exception as e:\n",
    "            #print(\"FAILED for \"+dir+\" error:\" +str(e))\n",
    "            pass\n",
    "\n",
    "    plt.figure(figsize=(30, 8))\n",
    "    df_dw1=df_dw[(df_dw['ip.src']==row['ip.src']) & (df_dw['ip.dst']==row['ip.dst'])]\n",
    "    df_up1=df_up[(df_up['ip.dst']==row['ip.src']) & (df_up['ip.src']==row['ip.dst'])]\n",
    "\n",
    "    plt.plot(df_dw1['delta'], df_dw1['frame.len'], 'r-o', label = 'Download')\n",
    "    plt.plot(df_up1['delta'], df_up1['frame.len'], 'b-o', label = 'Upload')\n",
    "\n",
    "    plt.legend(loc=\"upper left\")\n",
    "    plt.show()\n",
    "    \n",
    "    # This is a 1-second aggregation of network traffic,\n",
    "    # short connection < 1sec should appear in a single dot (1 for up, 1 for dw)\n"
   ]
  },
  {
   "cell_type": "markdown",
   "metadata": {},
   "source": [
    "##### At this point you should be able to see a list of multiple time series line charts, this is the throughput over time for each connection\n",
    "- this list is ordered by total data transfer of each connection;\n",
    "- if you are processing camera4.pcap you'll see two big \"moutains\" that correlate to the activities described in the camera4.pcap.log file\n",
    "- again the big question is: How can we flag data transfers that carry sensitive information or does not correlate to any activity?"
   ]
  },
  {
   "cell_type": "code",
   "execution_count": 37,
   "metadata": {},
   "outputs": [],
   "source": [
    "# Exercises:\n",
    "# 1.Use the Wireshark application to capture traffic with your\n",
    "# Single Board Computer station or your own laptop.\n",
    "# Access your favorite site via web browser while recording the pcap. \n",
    "# Try far distant sites like below, see if they are colocated: \n",
    "# https://www.tvnz.co.nz/\n",
    "# https://www3.nhk.or.jp/\n",
    "# 2. Save the pcap to a file and restart this notebook using the\n",
    "# new pcap\n",
    "# 3. Try switching the direction to download and see if the map\n",
    "# changes. Use the variable ip_dir='ip.src' while creating the\n",
    "# 'connection' dataframe\n",
    "# 4. Try to aggregate all the traffic sent and received by the device. \n",
    "# 5. Implement real-time peak and/or valley detection algo of your choice.\n",
    "# (This can help to filter TCP/UDP flows with large volumes of traffic,\n",
    "# but probably not super helpful to detect low activity c&c communication.)\n",
    "# Here are simple ones, lift from:\n",
    "# https://stackoverflow.com/questions/22583391/peak-signal-detection-in-realtime-timeseries-data/\n",
    "# https://gist.github.com/sixtenbe/1178136\n"
   ]
  },
  {
   "cell_type": "markdown",
   "metadata": {},
   "source": [
    "![simplepeakdetection](stackoverflow.Q22583391.gif \"simplepeakdetection\")"
   ]
  },
  {
   "cell_type": "markdown",
   "metadata": {},
   "source": [
    "### 4. DPI (Deep Packet Inspection) Techniques\n",
    "\n",
    "DPI techniques are on your side when it comes to IoT monitoring. Old-fashioned DPI only matches packet payloads with know protocol signatures and process \"easy-to-read\" features like the inter-arrival time of packets. Nowadays most of the traffic is encrypted and some protocols go beyond simple encryption by implementing obfuscation techniques to the various levels. Here we implement a few techniques to expose the anatomy of the IoT communication. The techniques described here require heavy packet processing and are not available even to the most powerful high-performance commercial DPI hardware. The general goal is to engineer key (virtual-)features to feed more advanced ML/anomaly detection techniques. Ideally, we want to make these techniques to run efficiently and to be operational to large scale monitoring groups such as SOCs (Security Operations Centers) and/or to home internet users.\n",
    "\n",
    "\n",
    "\n"
   ]
  },
  {
   "cell_type": "code",
   "execution_count": 55,
   "metadata": {},
   "outputs": [
    {
     "data": {
      "text/plain": [
       "Series([], Name: tcp.payload, dtype: object)"
      ]
     },
     "execution_count": 55,
     "metadata": {},
     "output_type": "execute_result"
    }
   ],
   "source": [
    "payload_df1 = dfpcap1[dfpcap1['ip.proto']=='17']['tcp.payload'].dropna() #\n",
    "payload_df1.head(20)\n",
    "#tcp.payload[0:3] == 3c:73:74"
   ]
  },
  {
   "cell_type": "markdown",
   "metadata": {},
   "source": [
    "#### Below very basic examples of commands that can be used to investigate ip addresses."
   ]
  },
  {
   "cell_type": "code",
   "execution_count": null,
   "metadata": {},
   "outputs": [],
   "source": [
    "###\n",
    "# Found an IP endpoint in Asia according to MaxMInd, \n",
    "# We can still dig in, get more info, wait,\n",
    "# Google Cloud in Asia?? MaxMind, are you ok?\n",
    "r = requests.request(\"GET\", urljoin(iotlaburl+\"/geoip/\",\"35.201.123.184\"))\n",
    "r.json()"
   ]
  },
  {
   "cell_type": "code",
   "execution_count": null,
   "metadata": {},
   "outputs": [],
   "source": [
    "##\n",
    "# Dispite the bizarre Location MaxMind is right about ISP/CDN\n",
    "!whois 35.201.123.184"
   ]
  },
  {
   "cell_type": "code",
   "execution_count": null,
   "metadata": {},
   "outputs": [],
   "source": [
    "## \n",
    "# Latency isn't high (< 10ms), it shouldn't be too far, possibly colocated\n",
    "!ping -c 5 35.201.123.184"
   ]
  },
  {
   "cell_type": "code",
   "execution_count": null,
   "metadata": {},
   "outputs": [],
   "source": [
    "##\n",
    "# Traceroute usually takes different path everytime you run,\n",
    "# But it can be still used to reveal important information about\n",
    "# intermediary hops\n",
    "!traceroute 35.201.123.184\n",
    "\n",
    "#traceroute to 35.201.123.184 (35.201.123.184), 64 hops max, 52 byte packets\n",
    "#...\n",
    "# 8  r-equinix-isp-ae2-2213.wiscnet.net (216.56.50.45)  4.567 ms  5.589 ms  4.622 ms\n",
    "# 9  72.14.218.180 (72.14.218.180)  5.763 ms  4.679 ms  4.221 ms\n",
    "#10  108.170.243.193 (108.170.243.193)  4.016 ms\n",
    "#    108.170.243.225 (108.170.243.225)  6.219 ms\n",
    "#    108.170.244.1 (108.170.244.1)  5.244 ms\n",
    "#11  216.239.51.117 (216.239.51.117)  5.365 ms\n",
    "#    72.14.232.153 (72.14.232.153)  4.855 ms  <--- intermediary hops can tell something\n",
    "#    72.14.232.169 (72.14.232.169)  4.571 ms   <--- \n",
    "#12  184.123.201.35.bc.googleusercontent.com (35.201.123.184)  4.512 ms  5.164 ms  4.771 ms"
   ]
  },
  {
   "cell_type": "code",
   "execution_count": null,
   "metadata": {},
   "outputs": [],
   "source": [
    "##\n",
    "# IP in Australia, closer to Asia, also Google.\n",
    "# Nothing to worry about\n",
    "r = requests.request(\"GET\", urljoin(iotlaburl+\"/geoip/\",\"72.14.232.169\"))\n",
    "r.json()"
   ]
  }
 ],
 "metadata": {
  "kernelspec": {
   "display_name": "Python 3",
   "language": "python",
   "name": "python3"
  },
  "language_info": {
   "codemirror_mode": {
    "name": "ipython",
    "version": 3
   },
   "file_extension": ".py",
   "mimetype": "text/x-python",
   "name": "python",
   "nbconvert_exporter": "python",
   "pygments_lexer": "ipython3",
   "version": "3.7.6"
  }
 },
 "nbformat": 4,
 "nbformat_minor": 2
}
