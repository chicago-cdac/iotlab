{
 "cells": [
  {
   "cell_type": "markdown",
   "metadata": {},
   "source": [
    "Workshop on IoT Networking - Data Analysis Track  - Version 0.8\n",
    "\n",
    "Network Traffic Analysis Using Python/Jupyter\n",
    "\n",
    "Guilherme G. Martins - gmartins uchicago edu 2020\n",
    "\n",
    "Other tracks:\n",
    "- IoT Networking - Data Analysis - Using Python to Analyze IoT Network Traffic  \n",
    "- IoT Networking - Data Collection - Using Single Board Computers to Collect and Monitor your Network Traffic. (TBD)\n",
    "- IoT Survey on open source components and IoT building blocks. (TBD)\n",
    "\n",
    "Requisites:\n",
    "- Mac/Windows/Linux OS with terminal\n",
    "- Python3/jupyter notebook/virtualenv+pip (https://jupyter.org/install)\n",
    "- Wireshark Application (https://www.wireshark.org/#download)\n",
    "- *bash* and *wget* via terminal\n",
    "- IoTLab's geoip API (Use it inside the IoT Lab, network 192.168.XXX.0/24)\n",
    "\n",
    "Motivation:\n",
    "\n",
    "It is no secret that the proliferation of connected devices is imposing challenges from security and privacy standpoints. Your home network used to be a safe place with a handful of very well known devices. Now, it's even hard to keep track of the total number of connected devices, temperature sensors, cameras, smart toys, refrigerators, just to name a few. Multiple technologies are used to enable these devices to communicate and to interact with each other: Bluetooth, Zigbee, Near Field Communication (NFC) are just examples of communication protocols. But when it comes to using the full set of features provided by your IoT devices and application, in most cases, it is required an internet connection to allow the IoT sending and receiving data to the cloud, potentially compromising security and privacy. Beyond just hoping that the IoT designers and operators are doing the right thing keeping both backend and IoT software secure, there are a few concepts, tools and techniques that we can be used to expose how these devices operate. The goal of this exercise is to explore some of these techniques.\n",
    "\n",
    "By the end of this exercise you should be able to learn:\n",
    "- How to decode a network traffic capture file (pcap) into csv (comma separated values);\n",
    "- How to identify network packets from a specific devices in your network;\n",
    "- How to visualize the TCP/UDP endpoints for all the external established connections;\n",
    "- How to correlate activities and interaction with the IoT devices with a volume of sent and received data;  \n",
    "\n",
    "References:\n",
    "\n",
    "https://en.wikipedia.org/wiki/Ethernet_frame <br />\n",
    "https://en.wikipedia.org/wiki/MAC_address <br />\n",
    "https://en.wikipedia.org/wiki/IPv4 <br />\n",
    "https://en.wikipedia.org/wiki/Internet_Protocol <br />\n",
    "https://en.wikipedia.org/wiki/Transmission_Control_Protocol <br />\n",
    "<Insert new Nick's book title here>"
   ]
  },
  {
   "cell_type": "markdown",
   "metadata": {},
   "source": [
    "### 1. Testing Requirements"
   ]
  },
  {
   "cell_type": "code",
   "execution_count": null,
   "metadata": {},
   "outputs": [],
   "source": [
    "#we'll be using bash run wget,tshark transformations scripts\n",
    "!/bin/bash --version"
   ]
  },
  {
   "cell_type": "code",
   "execution_count": null,
   "metadata": {},
   "outputs": [],
   "source": [
    "#wget to easily download the datasets and files from jupyter\n",
    "!wget --version"
   ]
  },
  {
   "cell_type": "code",
   "execution_count": null,
   "metadata": {},
   "outputs": [],
   "source": [
    "#Make sure the terminal command 'tshark' is in your PATH environment variable and ready to be used.\n",
    "#We'll use tshark to extract .csv data from the .pcap (packet capture format) to we can generate analysis\n",
    "path=%env PATH\n",
    "%env PATH=$path:/Applications/Wireshark.app/Contents/MacOS/\n",
    "!tshark --version"
   ]
  },
  {
   "cell_type": "markdown",
   "metadata": {},
   "source": [
    "### 2. Downloading and Preparing the Data"
   ]
  },
  {
   "cell_type": "code",
   "execution_count": null,
   "metadata": {},
   "outputs": [],
   "source": [
    "# For analysing IoT devices you need to link information from multiple sources.\n",
    "# The very first stop is to look at the MAC addresses and translate the first 3 octets \n",
    "# into the manufactor ID. (Keep in mind that mac addresses can be cloned or simply\n",
    "# assigned to any arbitrary address by a malicious code running with root provileges \n",
    "# in the IoT firmwares.)\n",
    "# The mac address resolution can be done using the field (eth.dst_resolved and\n",
    "# eth.src_resolved) while extracting csv from pcap (or even enabling mac address \n",
    "# resolution in the Wireshark GUI), but here we understand how to link this information\n",
    "# from it a reliable source without relying on an external application.\n",
    "# https://en.wikipedia.org/wiki/MAC_address\n",
    "# https://en.wikipedia.org/wiki/Organizationally_unique_identifier\n",
    "ouiurl=\"http://standards-oui.ieee.org/oui/oui.txt\" \n",
    "#ouiurl=\"https://linuxnet.ca/ieee/oui.txt\" #sanitized version of oui dataset\n",
    "!if [ ! -f 'oui.txt' ]; then wget $ouiurl; else echo \"INFO: file present\"; fi"
   ]
  },
  {
   "cell_type": "code",
   "execution_count": null,
   "metadata": {},
   "outputs": [],
   "source": [
    "##\n",
    "# use and pcap file here\n",
    "pcapfile = \"camera1.pcap\"\n",
    "iotlaburl = \"http://192.168.143.1/\" #don't forget the \"/\" in the end"
   ]
  },
  {
   "cell_type": "code",
   "execution_count": null,
   "metadata": {},
   "outputs": [],
   "source": [
    "##\n",
    "# let's work with a sample pcap file for now\n",
    "# later your will use Wireshark to capture traffic from our own laptop\n",
    "pcapurl = iotlaburl+\"iotlab/pcapsample/\"+pcapfile # 3 days of packet capture\n",
    "!if [ ! -f $pcapfile ]; then wget $pcapurl; else echo \"INFO: file present\"; fi"
   ]
  },
  {
   "cell_type": "code",
   "execution_count": null,
   "metadata": {},
   "outputs": [],
   "source": [
    "!tail -n 20 oui.txt"
   ]
  },
  {
   "cell_type": "code",
   "execution_count": null,
   "metadata": {},
   "outputs": [],
   "source": [
    "##\n",
    "# If you have any trouble importing pandas or any other package\n",
    "# there are a few things you can do, one is to install conda or virtualenv\n",
    "# \n",
    "# UNCOMMENT and run below to install the dependancies using virtualenv:\n",
    "\n",
    "#!pip3 install virtualenv # install virtual environment\n",
    "#!virtualenv venv # create venv folder to hold all the packages\n",
    "#!source venv/bin/activate; pip3 install -r requirements.txt #<--- all the dependencies for this notebook\n",
    "#import sys\n",
    "#sys.path.append(\"venv/lib/python3.7/site-packages\")\n",
    "\n",
    "import re\n",
    "import pandas as pd\n",
    "import requests\n",
    "from urllib.parse import urljoin"
   ]
  },
  {
   "cell_type": "code",
   "execution_count": null,
   "metadata": {},
   "outputs": [],
   "source": [
    "def generate_oui_dataframe():\n",
    "    with open('oui.txt','r') as f:\n",
    "        ouilines = f.readlines()\n",
    "        p = re.compile(\"^(..-..-..).*\\t\\t(.*)\") # Extract mac prefix 44-4A-DB and Manufacturer \n",
    "        macoui=[] # Organizational Unique Identifier OUI eg 44:4a:db\n",
    "        macman=[] # manufacturer eg \"Apple, Inc.\"\n",
    "        for line in ouilines:\n",
    "            r = p.match(line)\n",
    "            if r is not None:\n",
    "                try:\n",
    "                    r1=r.group(1).replace(\"-\",\":\").lower()\n",
    "                    r2=r.group(2)\n",
    "                except IndexError as ie:\n",
    "                    print(\"WARN: generate_oui_dataframe regex - \" + str(ie))\n",
    "                    continue\n",
    "                macoui.append(r1)\n",
    "                macman.append(r2)\n",
    "        df=pd.DataFrame({'macoui':macoui, 'macman':macman})\n",
    "    return df\n",
    "\n",
    "ouidf=generate_oui_dataframe()\n",
    "ouidf"
   ]
  },
  {
   "cell_type": "code",
   "execution_count": null,
   "metadata": {},
   "outputs": [],
   "source": [
    "##\n",
    "# we will be looking mostly over tcp / udp connections\n",
    "# keep in mind that data can travel encapsulated or crafted\n",
    "# inside various protocol/packet breaches. We commonly rely on\n",
    "# standard IPS/IDS signatures for detecting these cases\n",
    "# as they likely to deviate from the \"normal\" usage\n",
    "#\n",
    "# please note that the csv can expand 2x or 3x the size of\n",
    "# the original pcap\n",
    "\n",
    "!tshark -r $pcapfile -T fields -e frame.number -e frame.time \\\n",
    "-e frame.time_delta -e frame.time_relative -e eth.src_resolved  \\\n",
    "-e eth.dst_resolved -e eth.src -e eth.dst -e eth.type -e ip.version \\\n",
    "-e ip.hdr_len -e ip.len -e ip.id -e ip.flags.df -e ip.flags.mf \\\n",
    "-e ip.flags.rb -e ip.flags.sf -e ip.dsfield.dscp -e ip.dsfield.ecn \\\n",
    "-e ip.tos -e ip.ttl -e ip.proto -e ip.src -e ip.dst -e udp.srcport \\\n",
    "-e udp.dstport -e udp.length -e tcp.flags.cwr -e tcp.flags.ecn \\\n",
    "-e tcp.flags.urg -e tcp.flags.ack -e tcp.flags.push -e tcp.flags.reset \\\n",
    "-e tcp.flags.syn -e tcp.flags.fin -e tcp.flags.res -e tcp.flags.ns \\\n",
    "-e tcp.payload -e tcp.len -e frame.len -E header=y -E separator=\\| > pcapfile.csv"
   ]
  },
  {
   "cell_type": "code",
   "execution_count": null,
   "metadata": {},
   "outputs": [],
   "source": [
    "dfpcap1 = pd.read_csv(\"pcapfile.csv\", delimiter=\"|\")\n",
    "dfpcap1.head()"
   ]
  },
  {
   "cell_type": "code",
   "execution_count": null,
   "metadata": {},
   "outputs": [],
   "source": [
    "###\n",
    "# based on each TCP connection, there's an association\n",
    "# between your local device and an external ip address\n",
    "# ip_mac will hold that mapping to use later on\n",
    "ip_mac=dfpcap1[['ip.dst','eth.src']].drop_duplicates()\n",
    "ouieth=[]\n",
    "ouiman=[]\n",
    "for index, row in ip_mac.iterrows():\n",
    "    ouiman.append(ouidf[ouidf['macoui']==row['eth.src'][:8]]['macman'].iloc[0])\n",
    "ip_mac['ouiman']=ouiman\n",
    "ip_mac.head(10)"
   ]
  },
  {
   "cell_type": "code",
   "execution_count": null,
   "metadata": {},
   "outputs": [],
   "source": [
    "# We want to say, for example:\n",
    "# my Apple device (a4:83:8e7) connected to an ip address\n",
    "# in ireland while I was interacting with it.\n",
    "# The ip address is managed by the XYZs ISP or CDN.\n",
    "\n",
    "###\n",
    "# count frames (packets) for each internet connection destination (end-point)\n",
    "# rename the ip.src for ip.dst, this is a small hack to allow as to join dfs.\n",
    "ip_dir='ip.src' # download direction, for upload use ip.dst\n",
    "frames_per_dest=dfpcap1.loc[~dfpcap1[ip_dir].str.startswith('192.168.', na=False)].\\\n",
    "    groupby(ip_dir)['frame.number'].nunique().reset_index().rename(columns={'ip.src':'ip.dst'})\n",
    "#frames_per_dest.head(10)\n",
    "\n",
    "##\n",
    "# join with ip_mac to see which device is the local IoT Endpoint\n",
    "# we want to know the exact ouiman (eg, Apple, Inc.) Involved in the\n",
    "# connection\n",
    "connection=frames_per_dest.set_index('ip.dst').join(ip_mac.set_index('ip.dst')).\\\n",
    "    sort_values(by=['frame.number'], ascending=False).reset_index()\n",
    "top5loc=connection.head(5) #we are only processing the top talkers here\n",
    "top5loc                    #ideally we want to account for all of the connections"
   ]
  },
  {
   "cell_type": "code",
   "execution_count": null,
   "metadata": {},
   "outputs": [],
   "source": [
    "##\n",
    "# We will use the IoT Lab API to help with geoip mapping\n",
    "# run this cell connected to the IoT Lab Wifi\n",
    "# this should print \"OK\" meaning that our local API is up and running\n",
    "r = requests.request(\"GET\", iotlaburl)\n",
    "r.text"
   ]
  },
  {
   "cell_type": "markdown",
   "metadata": {},
   "source": [
    "\n",
    "##### At this point you should be able to have all the data in the right format (dataframe) to start plotting some interesting graphics.\n",
    "- oui dataset\n",
    "- pcap file\n",
    "- local API access\n",
    "- connection list with merged data from oui \n"
   ]
  },
  {
   "cell_type": "markdown",
   "metadata": {},
   "source": [
    "### 3. Plotting TCP/UDP End-points Using Geo Location of IP addresses"
   ]
  },
  {
   "cell_type": "markdown",
   "metadata": {},
   "source": [
    "Usually geoip locations can provide a very good source of information\n",
    "to help investigate the source and destination of IoT communications.\n",
    "We're going to use a wrapper API around MaxMind GeoIP Dataset. It's not\n",
    "100% accurate in terms of finding the exact location, but it's\n",
    "reliable when it comes to find the organizations behind the management\n",
    "of these IP destinations. For more information: https://www.maxmind.com/en/geoip-demo"
   ]
  },
  {
   "cell_type": "code",
   "execution_count": null,
   "metadata": {},
   "outputs": [],
   "source": [
    "###\n",
    "# If you have any trouble importing the libraries below\n",
    "# try running the pip installation using the requirements.txt\n",
    "# files along with the virtual environment activation.\n",
    "# The commands provided earlier should be all you need.\n",
    "\n",
    "from bokeh.io import output_file, show, save\n",
    "from bokeh.models import GeoJSONDataSource\n",
    "from bokeh.plotting import figure\n",
    "from bokeh.sampledata.sample_geojson import geojson\n",
    "from bokeh.tile_providers import get_provider, Vendors\n",
    "from bokeh.models import ColumnDataSource, HoverTool\n",
    "import json\n",
    "from IPython.display import IFrame\n",
    "import math"
   ]
  },
  {
   "cell_type": "code",
   "execution_count": null,
   "metadata": {},
   "outputs": [],
   "source": [
    "###\n",
    "# This should take some serious time if pcap is larger than 200MB - be prepared.\n",
    "# Alternatively, you want to purchase the entire MaxMind dataset.\n",
    "# \n",
    "# What to expect: known names in the ISP, like google, amazon, fastly\n",
    "# Not all ips have a clear location, sometimes CDNs provide ip collocation\n",
    "# to make content delivery accessible at the edge with low latency.\n",
    "isp=[]\n",
    "city=[]\n",
    "country=[]\n",
    "lat=[]\n",
    "lng=[]\n",
    "color=[]\n",
    "for index, row in connection.iterrows():\n",
    "    url=urljoin(iotlaburl+\"/geoip/\", row['ip.dst'])\n",
    "    r = requests.request(\"GET\", url)\n",
    "    j = r.json()\n",
    "    isp.append(j['isp'])\n",
    "    city.append(j['city'])\n",
    "    country.append(j['country'])\n",
    "    lat.append(float(j['lat']))\n",
    "    lng.append(float(j['lng']))\n",
    "    color.append('green') # TODO: anomaly detection here, mark red\n",
    "    #print(r.json())\n",
    "connection['isp']=isp\n",
    "connection['city']=city\n",
    "connection['country']=country\n",
    "connection['lat']=lat\n",
    "connection['lng']=lng\n",
    "connection['color']=color\n",
    "connection.head(5)"
   ]
  },
  {
   "cell_type": "code",
   "execution_count": null,
   "metadata": {},
   "outputs": [],
   "source": [
    "coords=[]\n",
    "for index, row in connection.iterrows():\n",
    "    d=row.to_dict()\n",
    "    coords.append(d)"
   ]
  },
  {
   "cell_type": "code",
   "execution_count": null,
   "metadata": {},
   "outputs": [],
   "source": [
    "#lift from\n",
    "#https://towardsdatascience.com/\n",
    "#exploring-and-visualizing-chicago-transit-data-using-pandas-and-bokeh-part-ii-intro-to-bokeh-5dca6c5ced10\n",
    "def merc(Coords):\n",
    "\n",
    "    lat = Coords['lat']\n",
    "    lng = Coords['lng']\n",
    "    \n",
    "    r_major = 6378137.000\n",
    "    x = r_major * math.radians(lng)\n",
    "    scale = x/lng\n",
    "    y = 180.0/math.pi * math.log(math.tan(math.pi/4.0 + \n",
    "        lat * (math.pi/180.0)/2.0)) * scale\n",
    "    return (x, y)"
   ]
  },
  {
   "cell_type": "code",
   "execution_count": null,
   "metadata": {},
   "outputs": [],
   "source": [
    "# Where are you now? (this is optional, just to plot some cool lines)\n",
    "origin = {'lat':41.795,'lng':-87.60} #Chicago, Hyde Park, US"
   ]
  },
  {
   "cell_type": "code",
   "execution_count": null,
   "metadata": {},
   "outputs": [],
   "source": [
    "def map_plot(coords, origin = None, title = None):\n",
    "    \"\"\"Plot multiple points in a world map using array of dict coordinates.\n",
    "\n",
    "    Keyword arguments:\n",
    "    coords -- array of dict objects containing lat,lng,color \n",
    "              eg. [{lat: 41.795, lng: -87.60, color: 'green'}]\n",
    "    origin -- coordinates for your origin location (default None)\n",
    "    \"\"\"\n",
    "    \n",
    "    if origin:\n",
    "        o = merc(origin)\n",
    "        x_origin = [o[0]]\n",
    "        y_origin = [o[1]]\n",
    "\n",
    "    tile_provider = get_provider(Vendors.CARTODBPOSITRON)\n",
    "\n",
    "    # TODO: enable the hover tool to display ISP information\n",
    "    #hover = HoverTool(tooltips=[\n",
    "    #    (\"station\", \"@stationname\"),\n",
    "    #    (\"ridership\",\"@ridership\")\n",
    "    #])\n",
    "\n",
    "    #source = ColumnDataSource(data=dict(\n",
    "    #                        x=list(Merged['coords_x']), \n",
    "    #                        y=list(Merged['coords_y']),\n",
    "    #                        ridership=list(Merged['monthtotal']),\n",
    "    #                        sizes=list(Merged['circle_sizes']),\n",
    "    #                        stationname=list(Merged['STATION_NAME'])))\n",
    "\n",
    "    p = figure(x_range=(-18780000, 18000000), y_range=(-1000000, 7000000),\n",
    "               x_axis_type=\"mercator\", y_axis_type=\"mercator\", \n",
    "               plot_width = 980, plot_height = 500, title = title)\n",
    "               #tools=[hover, '','wheel_zoom','save']\n",
    "    \n",
    "    p.add_tile(tile_provider)\n",
    "\n",
    "    if origin:\n",
    "        p.circle(x=x_origin, y=y_origin, size=10, color=\"black\")\n",
    "\n",
    "    ###\n",
    "    # plot multiple lines coming from the origin to dest. coordinates\n",
    "    #\n",
    "    if origin:\n",
    "        for coord in coords:\n",
    "            c = merc(coord)\n",
    "            c_x = [c[0]]\n",
    "            c_y = [c[1]]\n",
    "            #print(c)\n",
    "            #print(coord['color'])\n",
    "            p.multi_line(xs=[[x_origin, c_x]], \n",
    "                         ys=[[y_origin, c_y]],\n",
    "                         color=[coord['color']],\n",
    "                         line_width=2)\n",
    "            p.circle(x=c_x, y=c_y, size=10, color=coord['color'])\n",
    "    ###\n",
    "    # only plot point coordinates\n",
    "    #\n",
    "    else:\n",
    "        for coord in coords:\n",
    "            c_x = [c[0]]\n",
    "            c_y = [c[1]]\n",
    "            p.circle(x=c_x, y=c_y, size=10, color=coord['color'])\n",
    "\n",
    "    output_file(\"tile1.html\")\n",
    "    save(p)\n",
    "    return IFrame(src='./tile1.html', width=1024, height=500)\n",
    "    \n",
    "\n",
    "map_plot (coords, origin, title='TCP/UDP End Points')\n"
   ]
  },
  {
   "cell_type": "code",
   "execution_count": null,
   "metadata": {},
   "outputs": [],
   "source": [
    "connection.groupby('city')['isp'].nunique()"
   ]
  },
  {
   "cell_type": "code",
   "execution_count": null,
   "metadata": {},
   "outputs": [],
   "source": [
    "##\n",
    "# any thing in Europe or Asia?\n",
    "connection[connection['lng']>0]"
   ]
  },
  {
   "cell_type": "markdown",
   "metadata": {},
   "source": [
    "### 4. Visualizing IoT Network Traffic Over Time\n",
    "\n",
    "Here we want to inspect the TCP/UDP connections established by the device looking at the volume of data sent and received over the time duration of the packet capture. I good a exercise could be something like starting and stopping a video session using a IoT smart camera and a phone. Stop for a 1 or 2 minutes and restart the streaming. The traffic capture must be started before the beginning of video streaming and stopped before the end of all sessions. \n",
    "\n",
    "For a device like a camera, the volume of traffic is expected to increase abruptly and remain high as compared to the idle state. It should be steady at a higher level during the video streaming session. If the camera isn't being used, minimal or no traffic is expected. Please keep in mind that smart cameras might even avoid send data if no movement is detected. Also, the behavior of other types of IoT devices should be different and it won't be always clear what would be a traffic pattern of your Smart Refrigerator.\n",
    " \n",
    "If the packet capture only contains traffic for 1 or 2 devices with a few minutes, that's not really a problem to analyze, but if we are considering a dataset with multiple devices, it becomes really challenging to visualize, therefore better tools and methods are required. Not mentions this is only a tiny snapshot in time. As you read this, tons of data are being generated to the point where only an automated / systematic approach to expose anomalies can make a difference.\n"
   ]
  },
  {
   "cell_type": "code",
   "execution_count": null,
   "metadata": {},
   "outputs": [],
   "source": [
    "import numpy as np\n",
    "from matplotlib import pyplot as plt"
   ]
  },
  {
   "cell_type": "code",
   "execution_count": null,
   "metadata": {},
   "outputs": [],
   "source": [
    "###\n",
    "# For analyzing or processing network traffic, and precisely \n",
    "# look at the content of each TCP/UDP connection, we usually\n",
    "# group packets by a 5-tuple unique identification of each connection.\n",
    "# The 5-tuple contains ip.src, ip.dst, tcp.dstport, tcp.srcport and ip.proto.\n",
    "# Here we'll use a simplified grouping of packets considering only\n",
    "# ip src and dst addresses.\n",
    "\n",
    "##\n",
    "# Get the length in time_relative of the full pcap and create time bins\n",
    "bins = list(range(0,int(np.ceil(dfpcap1['frame.time_relative'].max())+1)))\n",
    "bins = [float(x) for x in bins]\n",
    "\n",
    "labels = ['{}-{}'.format(i + 1, j) for i, j in zip(bins[:-1], bins[1:])]\n",
    "labels\n",
    "\n",
    "# Add delta\n",
    "delta=[]\n",
    "for index, row in dfpcap1.iterrows():\n",
    "    delta.append(pd.to_timedelta(int(np.ceil(row['frame.time_relative'])), unit=\"s\"))\n",
    "dfpcap1['delta']=delta\n",
    "\n",
    "# This is ascending the delta increase overtime\n",
    "df_dw = dfpcap1.groupby(['ip.src', 'ip.dst',\\\n",
    "                         pd.Grouper(key='delta', freq='1s')])['frame.len'].sum()\\\n",
    "                         .reset_index().sort_values(by=['delta'], ascending=True)\n",
    "df_up = dfpcap1.groupby(['ip.dst', 'ip.src',\\\n",
    "                         pd.Grouper(key='delta', freq='1s')])['frame.len'].sum()\\\n",
    "                         .reset_index().sort_values(by=['delta'], ascending=True)\n",
    "\n",
    "df_conn=dfpcap1.groupby(['ip.src','ip.dst'])['frame.len'].sum()\\\n",
    "    .reset_index().rename(columns={'frame.len':'total_bytes'})\\\n",
    "    .sort_values(by=['total_bytes'], ascending=False)\n",
    "\n",
    "\n",
    "print(\"INFO: Processing \" + str(len(df_conn.index)) + \"/2 connections.\")\n",
    "\n",
    "visited={}\n",
    "\n",
    "for index, row in df_conn.iterrows():\n",
    "    try: #TODO: better to use hash here\n",
    "        if visited[row['ip.src']+\"-\"+row['ip.dst']]:\n",
    "            print(\"CONTINUE\")\n",
    "            continue\n",
    "    except KeyError as ke:\n",
    "        pass\n",
    "    \n",
    "    # visit the reverse flow as it will be processed in both in one pass\n",
    "    visited[row['ip.dst']+\"-\"+row['ip.src']] = True\n",
    "\n",
    "    try:\n",
    "        eth_src = ip_mac_map[ip_mac_map['ip.dst']==row['ip.src']]['eth.dst'].iloc[0]\n",
    "        eth_dst = ip_mac_map[ip_mac_map['ip.dst']==row['ip.dst']]['eth.dst'].iloc[0]\n",
    "    except:\n",
    "        #some frames don't have ip addresses (non-ip protocol packets)\n",
    "        pass\n",
    "    print(\"-- Connection \" + row['ip.src'] + \" \" + eth_src +\n",
    "          \" <-> \"+ row['ip.dst'] + \" \" + eth_dst)\n",
    "    print(\" Total Bytes: \" + str(row['total_bytes']))\n",
    " \n",
    "    ###\n",
    "    # we can suppress tiny size connections, \n",
    "    # but what if it's malware c&c packet?\n",
    "    if row['total_bytes'] < 500:\n",
    "        continue\n",
    "    \n",
    "    ##\n",
    "    # The mac resolution and mapping can be found in both directions\n",
    "    # The connection dataframe dosn't have complete information,\n",
    "    # so one should fail.\n",
    "    direction = ['ip.src', 'ip.dst']\n",
    "    for dir in direction:\n",
    "        try:\n",
    "            print(\" Device: \" + connection[connection['ip.dst']==row[dir]]['ouiman'].iloc[0])\n",
    "        except: pass\n",
    "\n",
    "        try:\n",
    "            print(\" City: \" + connection[connection['ip.dst']==row[dir]]['city'].iloc[0])\n",
    "            print(\" ISP: \" + connection[connection['ip.dst']==row[dir]]['isp'].iloc[0])\n",
    "            print(\" LatLng: \" + str(connection[connection['ip.dst']==row[dir]]['lat'].iloc[0])\n",
    "                + \" \" + str(connection[connection['ip.dst']==row[dir]]['lng'].iloc[0]))\n",
    "        except Exception as e:\n",
    "            #print(\"FAILED for \"+dir+\" error:\" +str(e))\n",
    "            pass\n",
    "\n",
    "    plt.figure(figsize=(30, 8))\n",
    "    df_dw1=df_dw[(df_dw['ip.src']==row['ip.src']) & (df_dw['ip.dst']==row['ip.dst'])]\n",
    "    df_up1=df_up[(df_up['ip.dst']==row['ip.src']) & (df_up['ip.src']==row['ip.dst'])]\n",
    "\n",
    "    plt.plot(df_dw1['delta'], df_dw1['frame.len'], 'r-o', label = 'Download')\n",
    "    plt.plot(df_up1['delta'], df_up1['frame.len'], 'b-o', label = 'Upload')\n",
    "\n",
    "    plt.legend(loc=\"upper left\")\n",
    "    plt.show()\n",
    "    \n",
    "    # This is a 1-second aggregation of network traffic,\n",
    "    # short connection < 1sec should appear in a single dot (1 for up, 1 for dw)\n"
   ]
  },
  {
   "cell_type": "code",
   "execution_count": null,
   "metadata": {},
   "outputs": [],
   "source": [
    "# Exercise: Plot total network traffic from both directions: the device <--> the router."
   ]
  },
  {
   "cell_type": "code",
   "execution_count": null,
   "metadata": {},
   "outputs": [],
   "source": [
    "###\n",
    "# Found an IP endpoint in Asia according to MaxMInd, \n",
    "# We can still dig in, get more info, wait,\n",
    "# Google Cloud in Asia?? MaxMind, are you ok?\n",
    "r = requests.request(\"GET\", urljoin(iotlaburl+\"/geoip/\",\"35.201.123.184\"))\n",
    "r.json()"
   ]
  },
  {
   "cell_type": "code",
   "execution_count": null,
   "metadata": {},
   "outputs": [],
   "source": [
    "##\n",
    "# Dispite the bizarre Location MaxMind is right about ISP/CDN\n",
    "!whois 35.201.123.184"
   ]
  },
  {
   "cell_type": "code",
   "execution_count": null,
   "metadata": {},
   "outputs": [],
   "source": [
    "## \n",
    "# Latency isn't high (< 10ms), it shouldn't be too far, possibly colocated\n",
    "!ping -c 5 35.201.123.184"
   ]
  },
  {
   "cell_type": "code",
   "execution_count": null,
   "metadata": {},
   "outputs": [],
   "source": [
    "##\n",
    "# Traceroute usually takes different path everytime you run,\n",
    "# But it can be still used to reveal important information about\n",
    "# intermediary hops\n",
    "!traceroute 35.201.123.184\n",
    "\n",
    "#traceroute to 35.201.123.184 (35.201.123.184), 64 hops max, 52 byte packets\n",
    "#...\n",
    "# 8  r-equinix-isp-ae2-2213.wiscnet.net (216.56.50.45)  4.567 ms  5.589 ms  4.622 ms\n",
    "# 9  72.14.218.180 (72.14.218.180)  5.763 ms  4.679 ms  4.221 ms\n",
    "#10  108.170.243.193 (108.170.243.193)  4.016 ms\n",
    "#    108.170.243.225 (108.170.243.225)  6.219 ms\n",
    "#    108.170.244.1 (108.170.244.1)  5.244 ms\n",
    "#11  216.239.51.117 (216.239.51.117)  5.365 ms\n",
    "#    72.14.232.153 (72.14.232.153)  4.855 ms  <--- intermediary hops can tell something\n",
    "#    72.14.232.169 (72.14.232.169)  4.571 ms   <--- \n",
    "#12  184.123.201.35.bc.googleusercontent.com (35.201.123.184)  4.512 ms  5.164 ms  4.771 ms"
   ]
  },
  {
   "cell_type": "code",
   "execution_count": null,
   "metadata": {},
   "outputs": [],
   "source": [
    "##\n",
    "# IP in Australia, closer to Asia, also Google.\n",
    "# Nothing to worry about\n",
    "r = requests.request(\"GET\", urljoin(iotlaburl+\"/geoip/\",\"72.14.232.169\"))\n",
    "r.json()"
   ]
  }
 ],
 "metadata": {
  "kernelspec": {
   "display_name": "Python 3",
   "language": "python",
   "name": "python3"
  },
  "language_info": {
   "codemirror_mode": {
    "name": "ipython",
    "version": 3
   },
   "file_extension": ".py",
   "mimetype": "text/x-python",
   "name": "python",
   "nbconvert_exporter": "python",
   "pygments_lexer": "ipython3",
   "version": "3.7.6"
  }
 },
 "nbformat": 4,
 "nbformat_minor": 2
}
