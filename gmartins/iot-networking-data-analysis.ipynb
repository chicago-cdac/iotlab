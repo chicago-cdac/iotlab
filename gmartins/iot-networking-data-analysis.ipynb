{
 "cells": [
  {
   "cell_type": "markdown",
   "metadata": {},
   "source": [
    "Workshop on IoT Networking - Data Analysis Track  - Version 0.8\n",
    "\n",
    "Network Traffic Analysis Using Python/Jupyter\n",
    "\n",
    "Guilherme G. Martins - gmartins uchicago edu 2020\n",
    "\n",
    "Other tracks:\n",
    "- IoT Networking - Data Analysis - Using Python to Analyze IoT Network Traffic  \n",
    "- IoT Networking - Data Collection - Using Single Board Computers to Collect and Monitor your Network Traffic. (TBD)\n",
    "- IoT Survey on open source components and IoT building blocks. (TBD)\n",
    "\n",
    "Requisites:\n",
    "- Mac/Windows/Linux OS with terminal\n",
    "- Python3/jupyter notebook/virtualenv+pip (https://jupyter.org/install)\n",
    "- Wireshark Application (https://www.wireshark.org/#download)\n",
    "- *bash* and *wget* via terminal\n",
    "- IoTLab's geoip API (Use it inside the IoT Lab, network 192.168.XXX.0/24)\n",
    "\n",
    "Motivation:\n",
    "\n",
    "It is no secret that the proliferation of connected devices is imposing challenges from security and privacy standpoints. Your home network used to be a safe place with a handful of very well known connected devices. Now, it's even hard to keep track of the total number of connected devices, temperature sensors, cameras, smart toys, refrigerators, just to name a few. Multiple technologies are used to enable these devices to communicate and to interact with each other: Bluetooth, Zigbee, Near Field Communication (NFC) are just examples of communication protocols. But when it comes to using the full set of features provided by your IoT device and application, in most cases, it is required an internet connection for sending and receiving data to the cloud or the IoT Backend. Beyond just hoping that the IoT designers and operators are doing the right thing keeping both backend and IoT software secure, there are a few concepts, tools and techniques that we can be used to expose how these devices operate.\n",
    "\n",
    "Goals\n",
    "- How to decode a network traffic capture file (pcap) into csv (comma separated values);\n",
    "- How to identify network packets from a specific devices in your network;\n",
    "- How to visualize the TCP/UDP endpoints for all the external established connections;\n",
    "- How to correlate activities and interaction with the IoT devices with a volume of sent and received data;  \n",
    "\n",
    "References:\n",
    "\n",
    "https://en.wikipedia.org/wiki/MAC_address"
   ]
  },
  {
   "cell_type": "markdown",
   "metadata": {},
   "source": [
    "### 1. Testing Requirements"
   ]
  },
  {
   "cell_type": "code",
   "execution_count": 1,
   "metadata": {},
   "outputs": [
    {
     "name": "stdout",
     "output_type": "stream",
     "text": [
      "GNU bash, version 3.2.57(1)-release (x86_64-apple-darwin19)\r\n",
      "Copyright (C) 2007 Free Software Foundation, Inc.\r\n"
     ]
    }
   ],
   "source": [
    "#we'll be using bash run wget,tshark transformations scripts\n",
    "!/bin/bash --version"
   ]
  },
  {
   "cell_type": "code",
   "execution_count": 2,
   "metadata": {},
   "outputs": [
    {
     "name": "stdout",
     "output_type": "stream",
     "text": [
      "GNU Wget 1.20.3 built on darwin19.0.0.\r\n",
      "\r\n",
      "-cares +digest -gpgme +https +ipv6 +iri +large-file -metalink +nls \r\n",
      "+ntlm +opie -psl +ssl/openssl \r\n",
      "\r\n",
      "Wgetrc: \r\n",
      "    /usr/local/etc/wgetrc (system)\r\n",
      "Locale: \r\n",
      "    /usr/local/Cellar/wget/1.20.3_2/share/locale \r\n",
      "Compile: \r\n",
      "    clang -DHAVE_CONFIG_H -DSYSTEM_WGETRC=\"/usr/local/etc/wgetrc\" \r\n",
      "    -DLOCALEDIR=\"/usr/local/Cellar/wget/1.20.3_2/share/locale\" -I. \r\n",
      "    -I../lib -I../lib -I/usr/local/opt/openssl@1.1/include -DNDEBUG -g \r\n",
      "    -O2 \r\n",
      "Link: \r\n",
      "    clang -DNDEBUG -g -O2 -lidn2 -L/usr/local/opt/openssl@1.1/lib -lssl \r\n",
      "    -lcrypto -ldl -lz ftp-opie.o openssl.o http-ntlm.o ../lib/libgnu.a \r\n",
      "    -liconv -lintl -Wl,-framework -Wl,CoreFoundation -lunistring \r\n",
      "\r\n",
      "Copyright (C) 2015 Free Software Foundation, Inc.\r\n",
      "License GPLv3+: GNU GPL version 3 or later\r\n",
      "<http://www.gnu.org/licenses/gpl.html>.\r\n",
      "This is free software: you are free to change and redistribute it.\r\n",
      "There is NO WARRANTY, to the extent permitted by law.\r\n",
      "\r\n",
      "Originally written by Hrvoje Niksic <hniksic@xemacs.org>.\r\n",
      "Please send bug reports and questions to <bug-wget@gnu.org>.\r\n"
     ]
    }
   ],
   "source": [
    "#wget to easily download the datasets and files from jupyter\n",
    "!wget --version"
   ]
  },
  {
   "cell_type": "code",
   "execution_count": 4,
   "metadata": {},
   "outputs": [
    {
     "name": "stdout",
     "output_type": "stream",
     "text": [
      "env: PATH=/usr/local/bin:/usr/bin:/bin:/usr/sbin:/sbin:/Users/gmartins/golang/go1.13.1/go/bin/:/Applications//Visual Studio Code.app/Contents/Resources/app/bin/:/Users/gmartins/.local/bin/:/Users/gmartins/Library/Python/3.7/bin/:/Applications/Wireshark.app/Contents/MacOS/:/Applications/Wireshark.app/Contents/MacOS/\n",
      "TShark (Wireshark) 3.0.7 (v3.0.7-0-g9435717b91f5)\n",
      "\n",
      "Copyright 1998-2019 Gerald Combs <gerald@wireshark.org> and contributors.\n",
      "License GPLv2+: GNU GPL version 2 or later <http://www.gnu.org/licenses/old-licenses/gpl-2.0.html>\n",
      "This is free software; see the source for copying conditions. There is NO\n",
      "warranty; not even for MERCHANTABILITY or FITNESS FOR A PARTICULAR PURPOSE.\n",
      "\n",
      "Compiled (64-bit) with libpcap, without POSIX capabilities, with GLib 2.37.6,\n",
      "with zlib 1.2.11, with SMI 0.4.8, with c-ares 1.15.0, with Lua 5.2.4, with\n",
      "GnuTLS 3.4.17, with Gcrypt 1.7.7, with MIT Kerberos, with MaxMind DB resolver,\n",
      "with nghttp2 1.39.2, with LZ4, with Snappy, with libxml2 2.9.9.\n",
      "\n",
      "Running on Mac OS X 10.15.2, build 19C57 (Darwin 19.2.0), with Intel(R) Core(TM)\n",
      "i5-8279U CPU @ 2.40GHz (with SSE4.2), with 16384 MB of physical memory, with\n",
      "locale en_US.UTF-8, with libpcap version 1.9.1, with GnuTLS 3.4.17, with Gcrypt\n",
      "1.7.7, with zlib 1.2.11, binary plugins supported (0 loaded).\n",
      "\n",
      "Built using clang 4.2.1 Compatible Apple LLVM 11.0.0 (clang-1100.0.33.12).\n"
     ]
    }
   ],
   "source": [
    "#Make sure the terminal command 'tshark' is in your PATH environment variable and ready to be used.\n",
    "#We'll use tshark to extract .csv data from the .pcap (packet capture format) to we can generate analysis\n",
    "path=%env PATH\n",
    "%env PATH=$path:/Applications/Wireshark.app/Contents/MacOS/\n",
    "!tshark --version"
   ]
  },
  {
   "cell_type": "markdown",
   "metadata": {},
   "source": [
    "### 2. Downloading the Data"
   ]
  },
  {
   "cell_type": "code",
   "execution_count": 5,
   "metadata": {},
   "outputs": [
    {
     "name": "stdout",
     "output_type": "stream",
     "text": [
      "--2020-01-13 15:04:39--  http://standards-oui.ieee.org/oui/oui.txt\n",
      "Resolving standards-oui.ieee.org (standards-oui.ieee.org)... 140.98.223.27\n",
      "Connecting to standards-oui.ieee.org (standards-oui.ieee.org)|140.98.223.27|:80... connected.\n",
      "HTTP request sent, awaiting response... 200 OK\n",
      "Length: 4340119 (4.1M) [text/plain]\n",
      "Saving to: ‘oui.txt’\n",
      "\n",
      "oui.txt             100%[===================>]   4.14M  1.48MB/s    in 2.8s    \n",
      "\n",
      "2020-01-13 15:04:42 (1.48 MB/s) - ‘oui.txt’ saved [4340119/4340119]\n",
      "\n"
     ]
    }
   ],
   "source": [
    "# For analysing IoT devices you need to link information from multiple sources.\n",
    "# The very first stop is to look at the MAC addresses and translate the first 3 octets \n",
    "# into the manufactor ID. (Keep in mind that mac addresses can be cloned or simply\n",
    "# assigned to any arbitrary address by a malicious code running with root provileges \n",
    "# in the IoT firmwares.)\n",
    "# The mac address resolution can be done using the field (eth.dst_resolved and\n",
    "# eth.src_resolved) while extracting csv from pcap (or even enabling mac address \n",
    "# resolution in the Wireshark GUI), but here we understand how to link this information\n",
    "# from it a reliable source without relying on an external application.\n",
    "# https://en.wikipedia.org/wiki/MAC_address\n",
    "# https://en.wikipedia.org/wiki/Organizationally_unique_identifier\n",
    "ouiurl=\"http://standards-oui.ieee.org/oui/oui.txt\" \n",
    "#ouiurl=\"https://linuxnet.ca/ieee/oui.txt\" #sanitized version of oui dataset\n",
    "!if [ ! -f 'oui.txt' ]; then wget $ouiurl; else echo \"INFO: file present\"; fi"
   ]
  },
  {
   "cell_type": "code",
   "execution_count": 6,
   "metadata": {},
   "outputs": [
    {
     "name": "stdout",
     "output_type": "stream",
     "text": [
      "--2020-01-13 15:04:50--  http://192.168.143.1/camera1.pcap\n",
      "Connecting to 192.168.143.1:80... connected.\n",
      "HTTP request sent, awaiting response... 404 Not Found\n",
      "2020-01-13 15:04:50 ERROR 404: Not Found.\n",
      "\n"
     ]
    }
   ],
   "source": [
    "# download pcap for a single device dataset\n",
    "pcapurl=\"http://192.168.143.1/camera1.pcap\" # 3 days of packet capture\n",
    "#pcapurl=\"http://192.168.143.1/camera2.pcap\"\n",
    "!if [ ! -f 'camera1.pcap' ]; then wget $pcapurl; else echo \"INFO: file present\"; fi"
   ]
  },
  {
   "cell_type": "code",
   "execution_count": 7,
   "metadata": {},
   "outputs": [
    {
     "name": "stdout",
     "output_type": "stream",
     "text": [
      "\t\t\t\tFarum    DK-3520\r",
      "\r\n",
      "\t\t\t\tDK\r",
      "\r\n",
      "\r",
      "\r\n",
      "64-BC-58   (hex)\t\tIntel Corporate\r",
      "\r\n",
      "64BC58     (base 16)\t\tIntel Corporate\r",
      "\r\n",
      "\t\t\t\tLot 8, Jalan Hi-Tech 2/3\r",
      "\r\n",
      "\t\t\t\tKulim  Kedah  09000\r",
      "\r\n",
      "\t\t\t\tMY\r",
      "\r\n",
      "\r",
      "\r\n",
      "28-E3-4E   (hex)\t\tHUAWEI TECHNOLOGIES CO.,LTD\r",
      "\r\n",
      "28E34E     (base 16)\t\tHUAWEI TECHNOLOGIES CO.,LTD\r",
      "\r\n",
      "\t\t\t\tNo.2 Xin Cheng Road, Room R6,Songshan Lake Technology Park\r",
      "\r\n",
      "\t\t\t\tDongguan    523808\r",
      "\r\n",
      "\t\t\t\tCN\r",
      "\r\n",
      "\r",
      "\r\n",
      "94-E9-EE   (hex)\t\tHuawei Device Co., Ltd.\r",
      "\r\n",
      "94E9EE     (base 16)\t\tHuawei Device Co., Ltd.\r",
      "\r\n",
      "\t\t\t\tNo.2 of Xincheng Road, Songshan Lake Zone\r",
      "\r\n",
      "\t\t\t\tDongguan  Guangdong  523808\r",
      "\r\n",
      "\t\t\t\tCN\r",
      "\r\n"
     ]
    }
   ],
   "source": [
    "!tail -n 20 oui.txt"
   ]
  },
  {
   "cell_type": "code",
   "execution_count": 11,
   "metadata": {},
   "outputs": [],
   "source": [
    "#import sys\n",
    "#sys.path.append(\"/Users/gmartins/Library/Python/3.7/lib/python/site-packages\")\n",
    "import re\n",
    "import pandas as pd"
   ]
  },
  {
   "cell_type": "code",
   "execution_count": 12,
   "metadata": {},
   "outputs": [
    {
     "data": {
      "text/html": [
       "<div>\n",
       "<style scoped>\n",
       "    .dataframe tbody tr th:only-of-type {\n",
       "        vertical-align: middle;\n",
       "    }\n",
       "\n",
       "    .dataframe tbody tr th {\n",
       "        vertical-align: top;\n",
       "    }\n",
       "\n",
       "    .dataframe thead th {\n",
       "        text-align: right;\n",
       "    }\n",
       "</style>\n",
       "<table border=\"1\" class=\"dataframe\">\n",
       "  <thead>\n",
       "    <tr style=\"text-align: right;\">\n",
       "      <th></th>\n",
       "      <th>macoui</th>\n",
       "      <th>macman</th>\n",
       "    </tr>\n",
       "  </thead>\n",
       "  <tbody>\n",
       "    <tr>\n",
       "      <th>0</th>\n",
       "      <td>00:22:72</td>\n",
       "      <td>American Micro-Fuel Device Corp.</td>\n",
       "    </tr>\n",
       "    <tr>\n",
       "      <th>1</th>\n",
       "      <td>00:d0:ef</td>\n",
       "      <td>IGT</td>\n",
       "    </tr>\n",
       "    <tr>\n",
       "      <th>2</th>\n",
       "      <td>08:61:95</td>\n",
       "      <td>Rockwell Automation</td>\n",
       "    </tr>\n",
       "    <tr>\n",
       "      <th>3</th>\n",
       "      <td>f4:bd:9e</td>\n",
       "      <td>Cisco Systems, Inc</td>\n",
       "    </tr>\n",
       "    <tr>\n",
       "      <th>4</th>\n",
       "      <td>58:85:e9</td>\n",
       "      <td>Realme Chongqing MobileTelecommunications Corp...</td>\n",
       "    </tr>\n",
       "    <tr>\n",
       "      <th>...</th>\n",
       "      <td>...</td>\n",
       "      <td>...</td>\n",
       "    </tr>\n",
       "    <tr>\n",
       "      <th>27432</th>\n",
       "      <td>40:2e:71</td>\n",
       "      <td>Texas Instruments</td>\n",
       "    </tr>\n",
       "    <tr>\n",
       "      <th>27433</th>\n",
       "      <td>70:76:dd</td>\n",
       "      <td>OxyGuard Internation A/S</td>\n",
       "    </tr>\n",
       "    <tr>\n",
       "      <th>27434</th>\n",
       "      <td>64:bc:58</td>\n",
       "      <td>Intel Corporate</td>\n",
       "    </tr>\n",
       "    <tr>\n",
       "      <th>27435</th>\n",
       "      <td>28:e3:4e</td>\n",
       "      <td>HUAWEI TECHNOLOGIES CO.,LTD</td>\n",
       "    </tr>\n",
       "    <tr>\n",
       "      <th>27436</th>\n",
       "      <td>94:e9:ee</td>\n",
       "      <td>Huawei Device Co., Ltd.</td>\n",
       "    </tr>\n",
       "  </tbody>\n",
       "</table>\n",
       "<p>27437 rows × 2 columns</p>\n",
       "</div>"
      ],
      "text/plain": [
       "         macoui                                             macman\n",
       "0      00:22:72                   American Micro-Fuel Device Corp.\n",
       "1      00:d0:ef                                                IGT\n",
       "2      08:61:95                                Rockwell Automation\n",
       "3      f4:bd:9e                                 Cisco Systems, Inc\n",
       "4      58:85:e9  Realme Chongqing MobileTelecommunications Corp...\n",
       "...         ...                                                ...\n",
       "27432  40:2e:71                                  Texas Instruments\n",
       "27433  70:76:dd                           OxyGuard Internation A/S\n",
       "27434  64:bc:58                                    Intel Corporate\n",
       "27435  28:e3:4e                        HUAWEI TECHNOLOGIES CO.,LTD\n",
       "27436  94:e9:ee                            Huawei Device Co., Ltd.\n",
       "\n",
       "[27437 rows x 2 columns]"
      ]
     },
     "execution_count": 12,
     "metadata": {},
     "output_type": "execute_result"
    }
   ],
   "source": [
    "def generate_oui_dataframe():\n",
    "    with open('oui.txt','r') as f:\n",
    "        ouilines = f.readlines()\n",
    "        p = re.compile(\"^(..-..-..).*\\t\\t(.*)\") # Extract mac prefix 44-4A-DB and Manufacturer \n",
    "        macoui=[] # Organizational Unique Identifier OUI eg 44:4a:db\n",
    "        macman=[] # manufacturer eg \"Apple, Inc.\"\n",
    "        for line in ouilines:\n",
    "            r = p.match(line)\n",
    "            if r is not None:\n",
    "                try:\n",
    "                    r1=r.group(1).replace(\"-\",\":\").lower()\n",
    "                    r2=r.group(2)\n",
    "                except IndexError as ie:\n",
    "                    print(\"WARN: generate_oui_dataframe regex - \" + str(ie))\n",
    "                    continue\n",
    "                macoui.append(r1)\n",
    "                macman.append(r2)\n",
    "        df=pd.DataFrame({'macoui':macoui, 'macman':macman})\n",
    "    return df\n",
    "\n",
    "df=generate_oui_dataframe()\n",
    "df"
   ]
  },
  {
   "cell_type": "code",
   "execution_count": null,
   "metadata": {},
   "outputs": [],
   "source": []
  },
  {
   "cell_type": "code",
   "execution_count": null,
   "metadata": {},
   "outputs": [],
   "source": []
  }
 ],
 "metadata": {
  "kernelspec": {
   "display_name": "Python 3",
   "language": "python",
   "name": "python3"
  },
  "language_info": {
   "codemirror_mode": {
    "name": "ipython",
    "version": 3
   },
   "file_extension": ".py",
   "mimetype": "text/x-python",
   "name": "python",
   "nbconvert_exporter": "python",
   "pygments_lexer": "ipython3",
   "version": "3.7.6"
  }
 },
 "nbformat": 4,
 "nbformat_minor": 2
}
